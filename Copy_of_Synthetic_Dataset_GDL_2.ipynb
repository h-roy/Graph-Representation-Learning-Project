{
  "cells": [
    {
      "cell_type": "markdown",
      "metadata": {
        "id": "lqGsDtb0lyAW"
      },
      "source": [
        "##Graph Convolutional layer"
      ]
    },
    {
      "cell_type": "code",
      "execution_count": null,
      "metadata": {
        "colab": {
          "base_uri": "https://localhost:8080/"
        },
        "id": "4zcCyWqOAu8c",
        "outputId": "bb14ae67-2f1e-4da2-c7aa-c1a8754b4a60"
      },
      "outputs": [
        {
          "output_type": "stream",
          "name": "stdout",
          "text": [
            "Looking in indexes: https://pypi.org/simple, https://us-python.pkg.dev/colab-wheels/public/simple/\n",
            "Looking in links: https://data.pyg.org/whl/torch-1.12.0+cu113.html\n",
            "Collecting torch-scatter\n",
            "  Downloading https://data.pyg.org/whl/torch-1.12.0%2Bcu113/torch_scatter-2.0.9-cp37-cp37m-linux_x86_64.whl (7.9 MB)\n",
            "\u001b[K     |████████████████████████████████| 7.9 MB 8.0 MB/s \n",
            "\u001b[?25hCollecting torch-sparse\n",
            "  Downloading https://data.pyg.org/whl/torch-1.12.0%2Bcu113/torch_sparse-0.6.15-cp37-cp37m-linux_x86_64.whl (3.5 MB)\n",
            "\u001b[K     |████████████████████████████████| 3.5 MB 69.8 MB/s \n",
            "\u001b[?25hCollecting torch-cluster\n",
            "  Downloading https://data.pyg.org/whl/torch-1.12.0%2Bcu113/torch_cluster-1.6.0-cp37-cp37m-linux_x86_64.whl (2.4 MB)\n",
            "\u001b[K     |████████████████████████████████| 2.4 MB 28.5 MB/s \n",
            "\u001b[?25hCollecting torch-spline-conv\n",
            "  Downloading https://data.pyg.org/whl/torch-1.12.0%2Bcu113/torch_spline_conv-1.2.1-cp37-cp37m-linux_x86_64.whl (709 kB)\n",
            "\u001b[K     |████████████████████████████████| 709 kB 17.6 MB/s \n",
            "\u001b[?25hCollecting torch-geometric\n",
            "  Downloading torch_geometric-2.1.0.post1.tar.gz (467 kB)\n",
            "\u001b[K     |████████████████████████████████| 467 kB 6.8 MB/s \n",
            "\u001b[?25hRequirement already satisfied: scipy in /usr/local/lib/python3.7/dist-packages (from torch-sparse) (1.7.3)\n",
            "Requirement already satisfied: tqdm in /usr/local/lib/python3.7/dist-packages (from torch-geometric) (4.64.0)\n",
            "Requirement already satisfied: numpy in /usr/local/lib/python3.7/dist-packages (from torch-geometric) (1.21.6)\n",
            "Requirement already satisfied: jinja2 in /usr/local/lib/python3.7/dist-packages (from torch-geometric) (2.11.3)\n",
            "Requirement already satisfied: requests in /usr/local/lib/python3.7/dist-packages (from torch-geometric) (2.23.0)\n",
            "Requirement already satisfied: pyparsing in /usr/local/lib/python3.7/dist-packages (from torch-geometric) (3.0.9)\n",
            "Requirement already satisfied: scikit-learn in /usr/local/lib/python3.7/dist-packages (from torch-geometric) (1.0.2)\n",
            "Requirement already satisfied: MarkupSafe>=0.23 in /usr/local/lib/python3.7/dist-packages (from jinja2->torch-geometric) (2.0.1)\n",
            "Requirement already satisfied: idna<3,>=2.5 in /usr/local/lib/python3.7/dist-packages (from requests->torch-geometric) (2.10)\n",
            "Requirement already satisfied: certifi>=2017.4.17 in /usr/local/lib/python3.7/dist-packages (from requests->torch-geometric) (2022.6.15)\n",
            "Requirement already satisfied: chardet<4,>=3.0.2 in /usr/local/lib/python3.7/dist-packages (from requests->torch-geometric) (3.0.4)\n",
            "Requirement already satisfied: urllib3!=1.25.0,!=1.25.1,<1.26,>=1.21.1 in /usr/local/lib/python3.7/dist-packages (from requests->torch-geometric) (1.24.3)\n",
            "Requirement already satisfied: threadpoolctl>=2.0.0 in /usr/local/lib/python3.7/dist-packages (from scikit-learn->torch-geometric) (3.1.0)\n",
            "Requirement already satisfied: joblib>=0.11 in /usr/local/lib/python3.7/dist-packages (from scikit-learn->torch-geometric) (1.1.0)\n",
            "Building wheels for collected packages: torch-geometric\n",
            "  Building wheel for torch-geometric (setup.py) ... \u001b[?25l\u001b[?25hdone\n",
            "  Created wheel for torch-geometric: filename=torch_geometric-2.1.0.post1-py3-none-any.whl size=689859 sha256=fa3fb383e2419639339467c0528d46742aaf45b914b7b8d930a5e925e3fe3b6e\n",
            "  Stored in directory: /root/.cache/pip/wheels/d1/cb/43/f7f2e472de4d7cff31bceddadc36d634e1e545fbc17961c282\n",
            "Successfully built torch-geometric\n",
            "Installing collected packages: torch-spline-conv, torch-sparse, torch-scatter, torch-geometric, torch-cluster\n",
            "Successfully installed torch-cluster-1.6.0 torch-geometric-2.1.0.post1 torch-scatter-2.0.9 torch-sparse-0.6.15 torch-spline-conv-1.2.1\n"
          ]
        }
      ],
      "source": [
        "%pip install torch-scatter torch-sparse torch-cluster torch-spline-conv torch-geometric -f https://data.pyg.org/whl/torch-1.12.0+cu113.html\n",
        "\n",
        "import torch\n",
        "import networkx as nx\n",
        "import matplotlib.pyplot as plt\n",
        "import numpy as np\n",
        "from torch import nn, optim\n",
        "\n",
        "from torch_geometric.utils import erdos_renyi_graph\n",
        "from torch_geometric.utils import to_networkx\n",
        "from torch_geometric.data import Data\n"
      ]
    },
    {
      "cell_type": "code",
      "execution_count": null,
      "metadata": {
        "id": "t_QP8bzUJIDN"
      },
      "outputs": [],
      "source": [
        "def get_edges(n_nodes):\n",
        "    rows, cols = [], []\n",
        "    for i in range(n_nodes):\n",
        "        for j in range(n_nodes):\n",
        "            if i != j:\n",
        "                rows.append(i)\n",
        "                cols.append(j)\n",
        "\n",
        "    edges = [rows, cols]\n",
        "    return edges\n",
        "    \n",
        "def get_edges_batch(n_nodes, batch_size):\n",
        "    edges = get_edges(n_nodes)\n",
        "    edge_attr = torch.ones(len(edges[0]) * batch_size, 1)\n",
        "    edges = [torch.LongTensor(edges[0]), torch.LongTensor(edges[1])]\n",
        "    if batch_size == 1:\n",
        "        return edges, edge_attr\n",
        "    elif batch_size > 1:\n",
        "        rows, cols = [], []\n",
        "        for i in range(batch_size):\n",
        "            rows.append(edges[0] + n_nodes * i)\n",
        "            cols.append(edges[1] + n_nodes * i)\n",
        "        edges = [torch.cat(rows), torch.cat(cols)]\n",
        "    return edges, edge_attr"
      ]
    },
    {
      "cell_type": "code",
      "execution_count": null,
      "metadata": {
        "id": "ieGOORrWl4DU"
      },
      "outputs": [],
      "source": [
        "from torch import nn\n",
        "import torch\n",
        "\n",
        "class MLP(nn.Module):\n",
        "    \"\"\" a simple 4-layer MLP \"\"\"\n",
        "\n",
        "    def __init__(self, nin, nout, nh):\n",
        "        super().__init__()\n",
        "        self.net = nn.Sequential(\n",
        "            nn.Linear(nin, nh),\n",
        "            nn.LeakyReLU(0.2),\n",
        "            nn.Linear(nh, nh),\n",
        "            nn.LeakyReLU(0.2),\n",
        "            nn.Linear(nh, nh),\n",
        "            nn.LeakyReLU(0.2),\n",
        "            nn.Linear(nh, nout),\n",
        "        )\n",
        "\n",
        "    def forward(self, x):\n",
        "        return self.net(x)\n",
        "\n",
        "class GCL_basic(nn.Module):\n",
        "    \"\"\"Graph Neural Net with global state and fixed number of nodes per graph.\n",
        "    Args:\n",
        "          hidden_dim: Number of hidden units.\n",
        "          num_nodes: Maximum number of nodes (for self-attentive pooling).\n",
        "          global_agg: Global aggregation function ('attn' or 'sum').\n",
        "          temp: Softmax temperature.\n",
        "    \"\"\"\n",
        "\n",
        "    def __init__(self):\n",
        "        super(GCL_basic, self).__init__()\n",
        "\n",
        "\n",
        "    def edge_model(self, source, target, edge_attr):\n",
        "        pass\n",
        "\n",
        "    def node_model(self, h, edge_index, edge_attr):\n",
        "        pass\n",
        "\n",
        "    def forward(self, x, edge_index, edge_mask, edge_attr=None, node_attr=None):\n",
        "        row, col = edge_index\n",
        "        edge_feat = self.edge_model(x[row], x[col], edge_attr)\n",
        "        edge_feat = edge_feat * edge_mask\n",
        "        #print(x.shape)\n",
        "        #print(node_attr.shape)\n",
        "\n",
        "        x = self.node_model(x, edge_index, edge_feat, node_attr)\n",
        "        return x, edge_feat\n",
        "\n",
        "class GCL(GCL_basic):\n",
        "    \"\"\"Graph Neural Net with global state and fixed number of nodes per graph.\n",
        "    Args:\n",
        "          hidden_dim: Number of hidden units.\n",
        "          num_nodes: Maximum number of nodes (for self-attentive pooling).\n",
        "          global_agg: Global aggregation function ('attn' or 'sum').\n",
        "          temp: Softmax temperature.\n",
        "    \"\"\"\n",
        "\n",
        "    def __init__(self, input_nf, output_nf, hidden_nf, nodes_att_dim=0,  edges_in_nf=0, act_fn=nn.ReLU(), bias=True, attention=False, t_eq=False, recurrent=True):\n",
        "        super(GCL, self).__init__()\n",
        "        self.attention = attention\n",
        "        self.t_eq=t_eq\n",
        "        self.recurrent = recurrent\n",
        "        input_edge_nf = input_nf * 2\n",
        "        self.edge_mlp = nn.Sequential(\n",
        "            nn.Linear(input_edge_nf + edges_in_nf, hidden_nf, bias=bias),\n",
        "            act_fn,\n",
        "            nn.Linear(hidden_nf, hidden_nf, bias=bias),\n",
        "            act_fn)\n",
        "        if self.attention:\n",
        "            self.att_mlp = nn.Sequential(\n",
        "                nn.Linear(input_nf, hidden_nf, bias=bias),\n",
        "                act_fn,\n",
        "                nn.Linear(hidden_nf, 1, bias=bias),\n",
        "                nn.Sigmoid())\n",
        "\n",
        "\n",
        "        self.node_mlp = nn.Sequential(\n",
        "            nn.Linear(hidden_nf + input_nf + nodes_att_dim, hidden_nf, bias=bias),\n",
        "            act_fn,\n",
        "            nn.Linear(hidden_nf, output_nf, bias=bias))\n",
        "\n",
        "        #if recurrent:\n",
        "            #self.gru = nn.GRUCell(hidden_nf, hidden_nf)\n",
        "\n",
        "\n",
        "    def edge_model(self, source, target, edge_attr):\n",
        "        edge_in = torch.cat([source, target], dim=1)\n",
        "        if edge_attr is not None:\n",
        "            edge_in = torch.cat([edge_in, edge_attr], dim=1)\n",
        "        out = self.edge_mlp(edge_in)\n",
        "        if self.attention:\n",
        "            att = self.att_mlp(torch.abs(source - target))\n",
        "            out = out * att\n",
        "        return out\n",
        "\n",
        "    def node_model(self, h, edge_index, edge_attr, node_attr):\n",
        "        row, col = edge_index\n",
        "        agg = unsorted_segment_sum(edge_attr, row, num_segments=h.size(0))\n",
        "        if node_attr is not None:\n",
        "            out = torch.cat([h, agg, node_attr], dim=1)\n",
        "        else:\n",
        "            out = torch.cat([h, agg], dim=1)\n",
        "\n",
        "        out = self.node_mlp(out)\n",
        "        if self.recurrent:\n",
        "            out = out + h\n",
        "            #out = self.gru(out, h)\n",
        "        return out\n",
        "\n",
        "\n",
        "def unsorted_segment_sum(data, segment_ids, num_segments):\n",
        "    \"\"\"Custom PyTorch op to replicate TensorFlow's `unsorted_segment_sum`.\"\"\"\n",
        "    result_shape = (num_segments, data.size(1))\n",
        "    result = data.new_full(result_shape, 0)  # Init empty result tensor.\n",
        "    segment_ids = segment_ids.unsqueeze(-1).expand(-1, data.size(1))\n",
        "    result.scatter_add_(0, segment_ids, data)\n",
        "    return result\n",
        "\n",
        "\n",
        "def unsorted_segment_mean(data, segment_ids, num_segments):\n",
        "    result_shape = (num_segments, data.size(1))\n",
        "    segment_ids = segment_ids.unsqueeze(-1).expand(-1, data.size(1))\n",
        "    result = data.new_full(result_shape, 0)  # Init empty result tensor.\n",
        "    count = data.new_full(result_shape, 0)\n",
        "    result.scatter_add_(0, segment_ids, data)\n",
        "    count.scatter_add_(0, segment_ids, torch.ones_like(data))\n",
        "    return result / count.clamp(min=1)\n",
        "\n",
        "\n"
      ]
    },
    {
      "cell_type": "code",
      "execution_count": null,
      "metadata": {
        "id": "v_MZ1Sh9C10u"
      },
      "outputs": [],
      "source": [
        "\n",
        "def generate_edge_mask(batch_size, num_nodes, nodes_list, batch_edge_index):\n",
        "  n = num_nodes\n",
        "  edge_mask = [0] * n * (n-1) * batch_size\n",
        "  for b in range(batch_size):\n",
        "    for i in nodes_list:\n",
        "      for j in nodes_list:\n",
        "        for k in  range(batch_edge_index[b].shape[1]):\n",
        "          if i == int(batch_edge_index[b][0,k]) and j == int(batch_edge_index[b][1,k]):\n",
        "            if j < i:\n",
        "              edge_mask[b * n * (n-1) + i*(n - 1) + j] = 1\n",
        "            if j > i:\n",
        "              edge_mask[b * n * (n-1) + i*(n - 1) + j - 1] = 1\n",
        "  return edge_mask"
      ]
    },
    {
      "cell_type": "code",
      "execution_count": null,
      "metadata": {
        "id": "34tlGIHHVK7h"
      },
      "outputs": [],
      "source": [
        "def get_graph_batch(batch_size, n_nodes, p):\n",
        "  nodes_list = list(range(n_nodes))\n",
        "  \n",
        "  edges, edge_attr = get_edges_batch(n_nodes, batch_size)\n",
        "  batch_edge_index = []\n",
        "  adj_list = []\n",
        "  for i in range(batch_size):\n",
        "    edge_index = erdos_renyi_graph(n_nodes,p)\n",
        "    batch_edge_index.append(edge_index)\n",
        "    x = torch.tensor([[1]]*n_nodes, dtype=torch.float)\n",
        "    data = Data(x=x, edge_index=edge_index.contiguous())\n",
        "    G = to_networkx(data)\n",
        "    adj = np.array(nx.linalg.graphmatrix.adjacency_matrix(G).todense())\n",
        "    adj_list.append(adj)\n",
        "  edge_mask = generate_edge_mask(batch_size, n_nodes, nodes_list, batch_edge_index)\n",
        "  tensor_edge_mask = torch.tensor(edge_mask, dtype=torch.float32).reshape(-1,1)\n",
        "  return edges, edge_attr, tensor_edge_mask, adj_list\n",
        "\n"
      ]
    },
    {
      "cell_type": "code",
      "execution_count": null,
      "metadata": {
        "id": "MM-jJYknnE_p"
      },
      "outputs": [],
      "source": [
        "input_nf, output_nf, hidden_nf, coords = 5, 1, 24, 3\n",
        "\n",
        "gcl_layer = GCL(input_nf + coords, output_nf, hidden_nf)"
      ]
    },
    {
      "cell_type": "code",
      "execution_count": null,
      "metadata": {
        "id": "x1q615bmnLEJ"
      },
      "outputs": [],
      "source": [
        "batch_size = 5\n",
        "n_nodes = 6\n",
        "p = 0.5\n",
        "coord_dim = 3\n",
        "edges, edge_attr, tensor_edge_mask,adj_list = get_graph_batch(batch_size, n_nodes, p)\n",
        "feat = torch.ones(batch_size * n_nodes, input_nf)\n",
        "coord = torch.rand(batch_size * n_nodes, coord_dim)\n",
        "x = torch.cat([feat, coord], axis=1)"
      ]
    },
    {
      "cell_type": "code",
      "execution_count": null,
      "metadata": {
        "id": "DeFXOrABnvOr"
      },
      "outputs": [],
      "source": [
        "h, edge_feat = gcl_layer(x = x, edge_index = edges, edge_mask = tensor_edge_mask)"
      ]
    },
    {
      "cell_type": "code",
      "execution_count": null,
      "metadata": {
        "colab": {
          "base_uri": "https://localhost:8080/"
        },
        "id": "q8cR7pNcy8T0",
        "outputId": "39cf2d04-eabe-4222-a435-c573e87f18bf"
      },
      "outputs": [
        {
          "output_type": "execute_result",
          "data": {
            "text/plain": [
              "torch.Size([30, 8])"
            ]
          },
          "metadata": {},
          "execution_count": 9
        }
      ],
      "source": [
        "h.shape"
      ]
    },
    {
      "cell_type": "markdown",
      "metadata": {
        "id": "h65MH7-0maSV"
      },
      "source": [
        "###Overfit"
      ]
    },
    {
      "cell_type": "code",
      "execution_count": null,
      "metadata": {
        "colab": {
          "background_save": true,
          "base_uri": "https://localhost:8080/",
          "height": 621
        },
        "id": "fPm4e753mdod",
        "outputId": "9f0d811e-aa05-4a5a-e9a2-78da23fe935d"
      },
      "outputs": [
        {
          "name": "stdout",
          "output_type": "stream",
          "text": [
            "Epoch: 1, MSE: 1.8206\n",
            "Epoch: 51, MSE: 1.5767\n",
            "Epoch: 101, MSE: 1.2617\n",
            "Epoch: 151, MSE: 0.8207\n",
            "Epoch: 201, MSE: 0.5755\n",
            "Epoch: 251, MSE: 0.8903\n",
            "Epoch: 301, MSE: 0.7147\n",
            "Epoch: 351, MSE: 0.5896\n",
            "Epoch: 401, MSE: 0.4579\n",
            "Epoch: 451, MSE: 0.4805\n",
            "Epoch: 501, MSE: 0.4784\n",
            "Epoch: 551, MSE: 0.5015\n",
            "Epoch: 601, MSE: 0.3787\n",
            "Epoch: 651, MSE: 0.3392\n",
            "Epoch: 701, MSE: 0.3768\n",
            "Epoch: 751, MSE: 0.4004\n",
            "Epoch: 801, MSE: 0.4146\n",
            "Epoch: 851, MSE: 0.3529\n",
            "Epoch: 901, MSE: 0.2795\n",
            "Epoch: 951, MSE: 0.2358\n",
            "Epoch: 1001, MSE: 0.2520\n",
            "Epoch: 1051, MSE: 0.2597\n",
            "Epoch: 1101, MSE: 0.2340\n",
            "Epoch: 1151, MSE: 0.2291\n",
            "Epoch: 1201, MSE: 0.2492\n",
            "Epoch: 1251, MSE: 0.2647\n",
            "Epoch: 1301, MSE: 0.2604\n",
            "Epoch: 1351, MSE: 0.2386\n",
            "Epoch: 1401, MSE: 0.2294\n",
            "Epoch: 1451, MSE: 0.2556\n",
            "Epoch: 1501, MSE: 0.2822\n",
            "Epoch: 1551, MSE: 0.2242\n",
            "Epoch: 1601, MSE: 0.2366\n",
            "Epoch: 1651, MSE: 0.2711\n",
            "Epoch: 1701, MSE: 0.2854\n",
            "Epoch: 1751, MSE: 0.2642\n",
            "Epoch: 1801, MSE: 0.2211\n",
            "Epoch: 1851, MSE: 0.2362\n",
            "Epoch: 1901, MSE: 0.3120\n",
            "Epoch: 1951, MSE: 0.2467\n",
            "Epoch: 2001, MSE: 0.2247\n",
            "Epoch: 2051, MSE: 0.2900\n",
            "Epoch: 2101, MSE: 0.3378\n",
            "Epoch: 2151, MSE: 0.3322\n",
            "Epoch: 2201, MSE: 0.2858\n",
            "Epoch: 2251, MSE: 0.2179\n",
            "Epoch: 2301, MSE: 0.2916\n",
            "Epoch: 2351, MSE: 0.3742\n",
            "Epoch: 2401, MSE: 0.3080\n",
            "Epoch: 2451, MSE: 0.2192\n",
            "Epoch: 2501, MSE: 0.3017\n",
            "Epoch: 2551, MSE: 0.3820\n",
            "Epoch: 2601, MSE: 0.4185\n",
            "Epoch: 2651, MSE: 0.3826\n",
            "Epoch: 2701, MSE: 0.3043\n",
            "Epoch: 2751, MSE: 0.2143\n",
            "Epoch: 2801, MSE: 0.3422\n",
            "Epoch: 2851, MSE: 0.4571\n",
            "Epoch: 2901, MSE: 0.4197\n",
            "Epoch: 2951, MSE: 0.2468\n",
            "Epoch: 3001, MSE: 0.2622\n",
            "Epoch: 3051, MSE: 0.3772\n",
            "Epoch: 3101, MSE: 0.4756\n",
            "Epoch: 3151, MSE: 0.4999\n",
            "Epoch: 3201, MSE: 0.4419\n",
            "Epoch: 3251, MSE: 0.3246\n",
            "Epoch: 3301, MSE: 0.2313\n",
            "Epoch: 3351, MSE: 0.3305\n",
            "Epoch: 3401, MSE: 0.4983\n",
            "Epoch: 3451, MSE: 0.5390\n",
            "Epoch: 3501, MSE: 0.4446\n",
            "Epoch: 3551, MSE: 0.2554\n",
            "Epoch: 3601, MSE: 0.2774\n",
            "Epoch: 3651, MSE: 0.3906\n",
            "Epoch: 3701, MSE: 0.5087\n",
            "Epoch: 3751, MSE: 0.5674\n",
            "Epoch: 3801, MSE: 0.5511\n",
            "Epoch: 3851, MSE: 0.4389\n",
            "Epoch: 3901, MSE: 0.2987\n",
            "Epoch: 3951, MSE: 0.2303\n"
          ]
        }
      ],
      "source": [
        "#Train:\n",
        "input_nf, output_nf, hidden_nf, coords = 5, 1, 24, 3\n",
        "optimizer_gcl = optim.Adam(gcl_layer.parameters(), lr=0.0001)\n",
        "loss_l1_gcl = nn.L1Loss()\n",
        "max_epoch = 4000\n",
        "batch_size = 32\n",
        "n_nodes = 6\n",
        "p = 0.5\n",
        "coord_dim = 3\n",
        "l = 2.5\n",
        "label = torch.full((batch_size * n_nodes, input_nf + coords), l)\n",
        "\n",
        "for i in range(max_epoch):\n",
        "  edges, edge_attr, tensor_edge_mask, adj_list = get_graph_batch(batch_size, n_nodes, p)\n",
        "  feat = torch.ones(batch_size * n_nodes, input_nf)\n",
        "  coord = torch.rand(batch_size * n_nodes, coord_dim)\n",
        "  x = torch.cat([feat, coord], axis=1)\n",
        "  h_1, _ = gcl_layer(x = x, edge_index = edges, edge_mask = tensor_edge_mask)\n",
        "  loss = loss_l1_gcl(h_1, label)\n",
        "  loss.backward()\n",
        "  optimizer_gcl.step()\n",
        "  if i % 50 == 0:\n",
        "    print(\"Epoch: {}, MSE: {:.4f}\".format((i+1), loss))\n",
        "    "
      ]
    },
    {
      "cell_type": "code",
      "execution_count": null,
      "metadata": {
        "id": "Zuxo6Sgf1N65"
      },
      "outputs": [],
      "source": [
        "edges, edge_attr, tensor_edge_mask, adj_list = get_graph_batch(batch_size, n_nodes, p)\n",
        "feat = torch.ones(batch_size * n_nodes, input_nf)\n",
        "coord = torch.rand(batch_size * n_nodes, coord_dim)\n",
        "x = torch.cat([feat, coord], axis=1)\n",
        "h_1, _ = gcl_layer(x = x, edge_index = edges, edge_mask = tensor_edge_mask)\n"
      ]
    },
    {
      "cell_type": "code",
      "execution_count": null,
      "metadata": {
        "colab": {
          "base_uri": "https://localhost:8080/"
        },
        "id": "Fj-IruTpFnYL",
        "outputId": "5e90de19-afc6-4d0f-e9e0-2aec2e7fa6a5"
      },
      "outputs": [
        {
          "data": {
            "text/plain": [
              "tensor([  0,   0,   0,   0,   0,   1,   1,   1,   1,   1,   2,   2,   2,   2,\n",
              "          2,   3,   3,   3,   3,   3,   4,   4,   4,   4,   4,   5,   5,   5,\n",
              "          5,   5,   6,   6,   6,   6,   6,   7,   7,   7,   7,   7,   8,   8,\n",
              "          8,   8,   8,   9,   9,   9,   9,   9,  10,  10,  10,  10,  10,  11,\n",
              "         11,  11,  11,  11,  12,  12,  12,  12,  12,  13,  13,  13,  13,  13,\n",
              "         14,  14,  14,  14,  14,  15,  15,  15,  15,  15,  16,  16,  16,  16,\n",
              "         16,  17,  17,  17,  17,  17,  18,  18,  18,  18,  18,  19,  19,  19,\n",
              "         19,  19,  20,  20,  20,  20,  20,  21,  21,  21,  21,  21,  22,  22,\n",
              "         22,  22,  22,  23,  23,  23,  23,  23,  24,  24,  24,  24,  24,  25,\n",
              "         25,  25,  25,  25,  26,  26,  26,  26,  26,  27,  27,  27,  27,  27,\n",
              "         28,  28,  28,  28,  28,  29,  29,  29,  29,  29,  30,  30,  30,  30,\n",
              "         30,  31,  31,  31,  31,  31,  32,  32,  32,  32,  32,  33,  33,  33,\n",
              "         33,  33,  34,  34,  34,  34,  34,  35,  35,  35,  35,  35,  36,  36,\n",
              "         36,  36,  36,  37,  37,  37,  37,  37,  38,  38,  38,  38,  38,  39,\n",
              "         39,  39,  39,  39,  40,  40,  40,  40,  40,  41,  41,  41,  41,  41,\n",
              "         42,  42,  42,  42,  42,  43,  43,  43,  43,  43,  44,  44,  44,  44,\n",
              "         44,  45,  45,  45,  45,  45,  46,  46,  46,  46,  46,  47,  47,  47,\n",
              "         47,  47,  48,  48,  48,  48,  48,  49,  49,  49,  49,  49,  50,  50,\n",
              "         50,  50,  50,  51,  51,  51,  51,  51,  52,  52,  52,  52,  52,  53,\n",
              "         53,  53,  53,  53,  54,  54,  54,  54,  54,  55,  55,  55,  55,  55,\n",
              "         56,  56,  56,  56,  56,  57,  57,  57,  57,  57,  58,  58,  58,  58,\n",
              "         58,  59,  59,  59,  59,  59,  60,  60,  60,  60,  60,  61,  61,  61,\n",
              "         61,  61,  62,  62,  62,  62,  62,  63,  63,  63,  63,  63,  64,  64,\n",
              "         64,  64,  64,  65,  65,  65,  65,  65,  66,  66,  66,  66,  66,  67,\n",
              "         67,  67,  67,  67,  68,  68,  68,  68,  68,  69,  69,  69,  69,  69,\n",
              "         70,  70,  70,  70,  70,  71,  71,  71,  71,  71,  72,  72,  72,  72,\n",
              "         72,  73,  73,  73,  73,  73,  74,  74,  74,  74,  74,  75,  75,  75,\n",
              "         75,  75,  76,  76,  76,  76,  76,  77,  77,  77,  77,  77,  78,  78,\n",
              "         78,  78,  78,  79,  79,  79,  79,  79,  80,  80,  80,  80,  80,  81,\n",
              "         81,  81,  81,  81,  82,  82,  82,  82,  82,  83,  83,  83,  83,  83,\n",
              "         84,  84,  84,  84,  84,  85,  85,  85,  85,  85,  86,  86,  86,  86,\n",
              "         86,  87,  87,  87,  87,  87,  88,  88,  88,  88,  88,  89,  89,  89,\n",
              "         89,  89,  90,  90,  90,  90,  90,  91,  91,  91,  91,  91,  92,  92,\n",
              "         92,  92,  92,  93,  93,  93,  93,  93,  94,  94,  94,  94,  94,  95,\n",
              "         95,  95,  95,  95,  96,  96,  96,  96,  96,  97,  97,  97,  97,  97,\n",
              "         98,  98,  98,  98,  98,  99,  99,  99,  99,  99, 100, 100, 100, 100,\n",
              "        100, 101, 101, 101, 101, 101, 102, 102, 102, 102, 102, 103, 103, 103,\n",
              "        103, 103, 104, 104, 104, 104, 104, 105, 105, 105, 105, 105, 106, 106,\n",
              "        106, 106, 106, 107, 107, 107, 107, 107, 108, 108, 108, 108, 108, 109,\n",
              "        109, 109, 109, 109, 110, 110, 110, 110, 110, 111, 111, 111, 111, 111,\n",
              "        112, 112, 112, 112, 112, 113, 113, 113, 113, 113, 114, 114, 114, 114,\n",
              "        114, 115, 115, 115, 115, 115, 116, 116, 116, 116, 116, 117, 117, 117,\n",
              "        117, 117, 118, 118, 118, 118, 118, 119, 119, 119, 119, 119, 120, 120,\n",
              "        120, 120, 120, 121, 121, 121, 121, 121, 122, 122, 122, 122, 122, 123,\n",
              "        123, 123, 123, 123, 124, 124, 124, 124, 124, 125, 125, 125, 125, 125,\n",
              "        126, 126, 126, 126, 126, 127, 127, 127, 127, 127, 128, 128, 128, 128,\n",
              "        128, 129, 129, 129, 129, 129, 130, 130, 130, 130, 130, 131, 131, 131,\n",
              "        131, 131, 132, 132, 132, 132, 132, 133, 133, 133, 133, 133, 134, 134,\n",
              "        134, 134, 134, 135, 135, 135, 135, 135, 136, 136, 136, 136, 136, 137,\n",
              "        137, 137, 137, 137, 138, 138, 138, 138, 138, 139, 139, 139, 139, 139,\n",
              "        140, 140, 140, 140, 140, 141, 141, 141, 141, 141, 142, 142, 142, 142,\n",
              "        142, 143, 143, 143, 143, 143, 144, 144, 144, 144, 144, 145, 145, 145,\n",
              "        145, 145, 146, 146, 146, 146, 146, 147, 147, 147, 147, 147, 148, 148,\n",
              "        148, 148, 148, 149, 149, 149, 149, 149, 150, 150, 150, 150, 150, 151,\n",
              "        151, 151, 151, 151, 152, 152, 152, 152, 152, 153, 153, 153, 153, 153,\n",
              "        154, 154, 154, 154, 154, 155, 155, 155, 155, 155, 156, 156, 156, 156,\n",
              "        156, 157, 157, 157, 157, 157, 158, 158, 158, 158, 158, 159, 159, 159,\n",
              "        159, 159, 160, 160, 160, 160, 160, 161, 161, 161, 161, 161, 162, 162,\n",
              "        162, 162, 162, 163, 163, 163, 163, 163, 164, 164, 164, 164, 164, 165,\n",
              "        165, 165, 165, 165, 166, 166, 166, 166, 166, 167, 167, 167, 167, 167,\n",
              "        168, 168, 168, 168, 168, 169, 169, 169, 169, 169, 170, 170, 170, 170,\n",
              "        170, 171, 171, 171, 171, 171, 172, 172, 172, 172, 172, 173, 173, 173,\n",
              "        173, 173, 174, 174, 174, 174, 174, 175, 175, 175, 175, 175, 176, 176,\n",
              "        176, 176, 176, 177, 177, 177, 177, 177, 178, 178, 178, 178, 178, 179,\n",
              "        179, 179, 179, 179, 180, 180, 180, 180, 180, 181, 181, 181, 181, 181,\n",
              "        182, 182, 182, 182, 182, 183, 183, 183, 183, 183, 184, 184, 184, 184,\n",
              "        184, 185, 185, 185, 185, 185, 186, 186, 186, 186, 186, 187, 187, 187,\n",
              "        187, 187, 188, 188, 188, 188, 188, 189, 189, 189, 189, 189, 190, 190,\n",
              "        190, 190, 190, 191, 191, 191, 191, 191])"
            ]
          },
          "execution_count": 18,
          "metadata": {},
          "output_type": "execute_result"
        }
      ],
      "source": [
        "edges[0]"
      ]
    },
    {
      "cell_type": "code",
      "execution_count": null,
      "metadata": {
        "colab": {
          "base_uri": "https://localhost:8080/"
        },
        "id": "Bv_Hk4r_Fxkx",
        "outputId": "38025cad-3c3f-481c-ddce-c7613e9ad3b5"
      },
      "outputs": [
        {
          "data": {
            "text/plain": [
              "torch.Size([960, 1])"
            ]
          },
          "execution_count": 17,
          "metadata": {},
          "output_type": "execute_result"
        }
      ],
      "source": [
        "edge_attr.shape"
      ]
    },
    {
      "cell_type": "markdown",
      "metadata": {
        "id": "-zUBZvvsmYCS"
      },
      "source": [
        "###MPNN"
      ]
    },
    {
      "cell_type": "code",
      "execution_count": null,
      "metadata": {
        "id": "aZLskstIl-3a"
      },
      "outputs": [],
      "source": [
        "class MPNN(nn.Module):\n",
        "  def __init__(self, in_node_nf, coords, in_edge_nf, hidden_nf, device='cpu', act_fn=nn.SiLU(), n_layers=4, coords_weight=1.0, attention=False, node_attr=1):\n",
        "      super(MPNN, self).__init__()\n",
        "      self.hidden_nf = hidden_nf\n",
        "      self.device = device\n",
        "      self.n_layers = n_layers\n",
        "      ### Encoder\n",
        "      self.embedding = nn.Linear(in_node_nf + coords, hidden_nf)\n",
        "      self.node_attr = node_attr\n",
        "      if node_attr:\n",
        "          n_node_attr = in_node_nf + coords\n",
        "      else:\n",
        "          n_node_attr = 0\n",
        "      for i in range(0, n_layers):\n",
        "          self.add_module(\"gcl_%d\" % i, GCL(self.hidden_nf, self.hidden_nf, self.hidden_nf, nodes_att_dim=n_node_attr))\n",
        "\n",
        "      self.node_dec = nn.Sequential(nn.Linear(self.hidden_nf, self.hidden_nf),\n",
        "                                    act_fn,\n",
        "                                    nn.Linear(self.hidden_nf, 1 + coords))\n",
        "\n",
        "      self.to(self.device)\n",
        "\n",
        "  def forward(self, x, edges, edge_attr, edge_mask, n_nodes):\n",
        "    h = self.embedding(x)\n",
        "    for i in range(0, self.n_layers):\n",
        "        if self.node_attr:\n",
        "            h, _ = self._modules[\"gcl_%d\" % i](h, edges, edge_mask, edge_attr=None, node_attr = x)\n",
        "        else:\n",
        "            h, _ = self._modules[\"gcl_%d\" % i](x, edge_index, edge_mask, edge_attr=None, node_attr=None)\n",
        "\n",
        "    pred = self.node_dec(h)\n",
        "    return pred.squeeze(1)\n"
      ]
    },
    {
      "cell_type": "code",
      "execution_count": null,
      "metadata": {
        "id": "5ybIi0eN1km_"
      },
      "outputs": [],
      "source": [
        "input_nf, output_nf, hidden_nf, coords = 5, 1, 24, 3\n",
        "mpnn = MPNN(in_node_nf=input_nf, coords=coords, in_edge_nf=1, hidden_nf=hidden_nf, n_layers=2)"
      ]
    },
    {
      "cell_type": "code",
      "execution_count": null,
      "metadata": {
        "colab": {
          "base_uri": "https://localhost:8080/",
          "height": 232
        },
        "id": "rQMF3OCQ7dGx",
        "outputId": "a1f1023d-7d78-4575-fecc-6cec8851cb0b"
      },
      "outputs": [
        {
          "ename": "ValueError",
          "evalue": "ignored",
          "output_type": "error",
          "traceback": [
            "\u001b[0;31m---------------------------------------------------------------------------\u001b[0m",
            "\u001b[0;31mValueError\u001b[0m                                Traceback (most recent call last)",
            "\u001b[0;32m<ipython-input-13-81b9ed274e78>\u001b[0m in \u001b[0;36m<module>\u001b[0;34m()\u001b[0m\n\u001b[1;32m      2\u001b[0m \u001b[0mn_nodes\u001b[0m \u001b[0;34m=\u001b[0m \u001b[0;36m6\u001b[0m\u001b[0;34m\u001b[0m\u001b[0;34m\u001b[0m\u001b[0m\n\u001b[1;32m      3\u001b[0m \u001b[0mp\u001b[0m \u001b[0;34m=\u001b[0m \u001b[0;36m0.5\u001b[0m\u001b[0;34m\u001b[0m\u001b[0;34m\u001b[0m\u001b[0m\n\u001b[0;32m----> 4\u001b[0;31m \u001b[0medges\u001b[0m\u001b[0;34m,\u001b[0m \u001b[0medge_attr\u001b[0m\u001b[0;34m,\u001b[0m \u001b[0mtensor_edge_mask\u001b[0m \u001b[0;34m=\u001b[0m \u001b[0mget_graph_batch\u001b[0m\u001b[0;34m(\u001b[0m\u001b[0mbatch_size\u001b[0m\u001b[0;34m,\u001b[0m \u001b[0mn_nodes\u001b[0m\u001b[0;34m,\u001b[0m \u001b[0mp\u001b[0m\u001b[0;34m)\u001b[0m\u001b[0;34m\u001b[0m\u001b[0;34m\u001b[0m\u001b[0m\n\u001b[0m\u001b[1;32m      5\u001b[0m \u001b[0mfeat\u001b[0m \u001b[0;34m=\u001b[0m \u001b[0mtorch\u001b[0m\u001b[0;34m.\u001b[0m\u001b[0mones\u001b[0m\u001b[0;34m(\u001b[0m\u001b[0mbatch_size\u001b[0m \u001b[0;34m*\u001b[0m \u001b[0mn_nodes\u001b[0m\u001b[0;34m,\u001b[0m \u001b[0minput_nf\u001b[0m\u001b[0;34m)\u001b[0m\u001b[0;34m\u001b[0m\u001b[0;34m\u001b[0m\u001b[0m\n\u001b[1;32m      6\u001b[0m \u001b[0mcoord\u001b[0m \u001b[0;34m=\u001b[0m \u001b[0mtorch\u001b[0m\u001b[0;34m.\u001b[0m\u001b[0mrand\u001b[0m\u001b[0;34m(\u001b[0m\u001b[0mbatch_size\u001b[0m \u001b[0;34m*\u001b[0m \u001b[0mn_nodes\u001b[0m\u001b[0;34m,\u001b[0m \u001b[0mcoords\u001b[0m\u001b[0;34m)\u001b[0m\u001b[0;34m\u001b[0m\u001b[0;34m\u001b[0m\u001b[0m\n",
            "\u001b[0;31mValueError\u001b[0m: too many values to unpack (expected 3)"
          ]
        }
      ],
      "source": [
        "batch_size = 5\n",
        "n_nodes = 6\n",
        "p = 0.5\n",
        "edges, edge_attr, tensor_edge_mask = get_graph_batch(batch_size, n_nodes, p)\n",
        "feat = torch.ones(batch_size * n_nodes, input_nf)\n",
        "coord = torch.rand(batch_size * n_nodes, coords)\n",
        "x = torch.cat([feat, coord], axis=1)\n",
        "h = mpnn(x, edges, edge_attr, tensor_edge_mask, n_nodes)"
      ]
    },
    {
      "cell_type": "code",
      "execution_count": null,
      "metadata": {
        "id": "p4U6SPHM7dNt"
      },
      "outputs": [],
      "source": [
        "input_nf, output_nf, hidden_nf, coords = 5, 1, 24, 3\n",
        "max_epoch = 4000\n",
        "batch_size = 32\n",
        "n_nodes = 6\n",
        "p = 0.5\n",
        "coord_dim = 3\n",
        "l = 2.5\n",
        "label = torch.full((batch_size * n_nodes, hidden_nf), l)\n",
        "mpnn = MPNN(in_node_nf=input_nf, coords=coords, in_edge_nf=1, hidden_nf=hidden_nf, n_layers=2)\n",
        "optimizer_mpnn = optim.Adam(mpnn.parameters(), lr=0.0001)\n",
        "loss_l1_mpnn = nn.L1Loss()\n",
        "\n",
        "\n",
        "for i in range(max_epoch):\n",
        "  edges, edge_attr, tensor_edge_mask = get_graph_batch(batch_size, n_nodes, p)\n",
        "  feat = torch.ones(batch_size * n_nodes, input_nf)\n",
        "  coord = torch.rand(batch_size * n_nodes, coords)\n",
        "  x = torch.cat([feat, coord], axis=1)\n",
        "  h_1 = mpnn(x, edges, edge_attr, tensor_edge_mask, n_nodes)\n",
        "  loss = loss_l1_mpnn(h_1, label)\n",
        "  loss.backward()\n",
        "  optimizer_mpnn.step()\n",
        "  if i % 50 == 0:\n",
        "    print(\"Epoch: {}, MSE: {:.4f}\".format((i+1), loss))\n",
        "    "
      ]
    },
    {
      "cell_type": "code",
      "execution_count": null,
      "metadata": {
        "id": "YYTEnJr03tCk"
      },
      "outputs": [],
      "source": [
        "edges, edge_attr, tensor_edge_mask = get_graph_batch(batch_size, n_nodes, p)\n",
        "feat = torch.ones(batch_size * n_nodes, input_nf)\n",
        "coord = torch.rand(batch_size * n_nodes, coords)\n",
        "x = torch.cat([feat, coord], axis=1)\n",
        "h = mpnn(x, edges, edge_attr, tensor_edge_mask, n_nodes)"
      ]
    },
    {
      "cell_type": "markdown",
      "metadata": {
        "id": "kMPnMgfJlp3S"
      },
      "source": [
        "##Equivariant Graph Convolutional Layer"
      ]
    },
    {
      "cell_type": "code",
      "execution_count": null,
      "metadata": {
        "id": "5wdBZP5hJHg5"
      },
      "outputs": [],
      "source": [
        "#Layers :\n",
        "\n",
        "class E_GCL(nn.Module):\n",
        "    \"\"\"Graph Neural Net with global state and fixed number of nodes per graph.\n",
        "    Args:\n",
        "          hidden_dim: Number of hidden units.\n",
        "          num_nodes: Maximum number of nodes (for self-attentive pooling).\n",
        "          global_agg: Global aggregation function ('attn' or 'sum').\n",
        "          temp: Softmax temperature.\n",
        "    \"\"\"\n",
        "\n",
        "    def __init__(self, input_nf, output_nf, hidden_nf, edges_in_d=0, nodes_att_dim=0, act_fn=nn.ReLU(), recurrent=True, coords_weight=1.0, attention=False, clamp=False, norm_diff=False, tanh=False):\n",
        "        super(E_GCL, self).__init__()\n",
        "        input_edge = input_nf * 2\n",
        "        self.coords_weight = coords_weight\n",
        "        self.recurrent = recurrent\n",
        "        self.attention = attention\n",
        "        self.norm_diff = norm_diff\n",
        "        self.tanh = tanh\n",
        "        edge_coords_nf = 1\n",
        "\n",
        "        #print(hidden_nf)\n",
        "        #print(input_nf)\n",
        "        #print(nodes_att_dim)\n",
        "\n",
        "\n",
        "        self.edge_mlp = nn.Sequential(\n",
        "            nn.Linear(input_edge + edge_coords_nf + edges_in_d, hidden_nf),\n",
        "            act_fn,\n",
        "            nn.Linear(hidden_nf, hidden_nf),\n",
        "            act_fn)\n",
        "\n",
        "        self.node_mlp = nn.Sequential(\n",
        "            nn.Linear(hidden_nf + input_nf + nodes_att_dim, hidden_nf),\n",
        "            act_fn,\n",
        "            nn.Linear(hidden_nf, output_nf))\n",
        "\n",
        "        layer = nn.Linear(hidden_nf, 1, bias=False)\n",
        "        torch.nn.init.xavier_uniform_(layer.weight, gain=0.001)\n",
        "\n",
        "        self.clamp = clamp\n",
        "        coord_mlp = []\n",
        "        coord_mlp.append(nn.Linear(hidden_nf, hidden_nf))\n",
        "        coord_mlp.append(act_fn)\n",
        "        coord_mlp.append(layer)\n",
        "        if self.tanh:\n",
        "            coord_mlp.append(nn.Tanh())\n",
        "            self.coords_range = nn.Parameter(torch.ones(1))*3\n",
        "        self.coord_mlp = nn.Sequential(*coord_mlp)\n",
        "\n",
        "\n",
        "        if self.attention:\n",
        "            self.att_mlp = nn.Sequential(\n",
        "                nn.Linear(hidden_nf, 1),\n",
        "                nn.Sigmoid())\n",
        "\n",
        "        #if recurrent:\n",
        "        #    self.gru = nn.GRUCell(hidden_nf, hidden_nf)\n",
        "\n",
        "\n",
        "    def edge_model(self, source, target, radial, edge_attr):\n",
        "        if edge_attr is None:  # Unused.\n",
        "            out = torch.cat([source, target, radial], dim=1)\n",
        "        else:\n",
        "            out = torch.cat([source, target, radial, edge_attr], dim=1)\n",
        "        out = self.edge_mlp(out)\n",
        "        if self.attention:\n",
        "            att_val = self.att_mlp(out)\n",
        "            out = out * att_val\n",
        "        return out\n",
        "\n",
        "    def node_model(self, x, edge_index, edge_attr, node_attr):\n",
        "        row, col = edge_index\n",
        "        agg = unsorted_segment_sum(edge_attr, row, num_segments=x.size(0))\n",
        "        if node_attr is not None:\n",
        "            agg = torch.cat([x, agg, node_attr], dim=1)\n",
        "        else:\n",
        "            agg = torch.cat([x, agg], dim=1)\n",
        "        #print(type(node_attr))\n",
        "        #print(x.shape)\n",
        "        #print(agg.shape)\n",
        "        #print(node_attr.shape)\n",
        "        out = self.node_mlp(agg)\n",
        "        if self.recurrent:\n",
        "            out = x + out\n",
        "        return out, agg\n",
        "\n",
        "    def coord_model(self, coord, edge_index, coord_diff, edge_feat):\n",
        "        row, col = edge_index\n",
        "        trans = coord_diff * self.coord_mlp(edge_feat)\n",
        "        trans = torch.clamp(trans, min=-100, max=100) #This is never activated but just in case it case it explosed it may save the train\n",
        "        agg = unsorted_segment_mean(trans, row, num_segments=coord.size(0))\n",
        "        coord += agg*self.coords_weight\n",
        "        return coord\n",
        "\n",
        "\n",
        "    def coord2radial(self, edge_index, coord):\n",
        "        row, col = edge_index\n",
        "        coord_diff = coord[row] - coord[col]\n",
        "        #print(coord_diff)\n",
        "        radial = torch.sum((coord_diff)**2, 1).unsqueeze(1)\n",
        "        #print(radial)\n",
        "        if self.norm_diff:\n",
        "            norm = torch.sqrt(radial) + 1\n",
        "            coord_diff = coord_diff/(norm)\n",
        "\n",
        "        return radial, coord_diff\n",
        "\n",
        "    def forward(self, h, edge_index, coord, edge_attr=None, node_attr=None):\n",
        "        row, col = edge_index\n",
        "        radial, coord_diff = self.coord2radial(edge_index, coord)\n",
        "\n",
        "        edge_feat = self.edge_model(h[row], h[col], radial, edge_attr)\n",
        "        coord = self.coord_model(coord, edge_index, coord_diff, edge_feat)\n",
        "        h, agg = self.node_model(h, edge_index, edge_feat, node_attr)\n",
        "        # coord = self.node_coord_model(h, coord)\n",
        "        # x = self.node_model(x, edge_index, x[col], u, batch)  # GCN\n",
        "        return h, coord, edge_attr\n"
      ]
    },
    {
      "cell_type": "code",
      "execution_count": null,
      "metadata": {
        "id": "u_1Db2haoDJg"
      },
      "outputs": [],
      "source": [
        "class E_GCL_mask(E_GCL):\n",
        "    \"\"\"Graph Neural Net with global state and fixed number of nodes per graph.\n",
        "    Args:\n",
        "          hidden_dim: Number of hidden units.\n",
        "          num_nodes: Maximum number of nodes (for self-attentive pooling).\n",
        "          global_agg: Global aggregation function ('attn' or 'sum').\n",
        "          temp: Softmax temperature.\n",
        "    \"\"\"\n",
        "\n",
        "    def __init__(self, input_nf, output_nf, hidden_nf, edges_in_d=0, nodes_attr_dim=0, act_fn=nn.ReLU(), recurrent=True, coords_weight=1.0, attention=False):\n",
        "        E_GCL.__init__(self, input_nf, output_nf, hidden_nf, edges_in_d=edges_in_d, nodes_att_dim=nodes_attr_dim, act_fn=act_fn, recurrent=recurrent, coords_weight=coords_weight, attention=attention)\n",
        "\n",
        "        del self.coord_mlp\n",
        "        self.act_fn = act_fn\n",
        "\n",
        "    def coord_model(self, coord, edge_index, coord_diff, edge_feat, edge_mask):\n",
        "        row, col = edge_index\n",
        "        trans = coord_diff * self.coord_mlp(edge_feat) * edge_mask\n",
        "        agg = unsorted_segment_sum(trans, row, num_segments=coord.size(0))\n",
        "        coord += agg*self.coords_weight\n",
        "        return coord\n",
        "\n",
        "    def forward(self, h, edge_index, coord, edge_mask, edge_attr=None, node_attr=None, n_nodes=None):\n",
        "        row, col = edge_index\n",
        "        radial, coord_diff = self.coord2radial(edge_index, coord)\n",
        "        edge_feat = self.edge_model(h[row], h[col], radial, edge_attr)\n",
        "\n",
        "        edge_feat = edge_feat * edge_mask\n",
        "\n",
        "        # TO DO: edge_feat = edge_feat * edge_mask\n",
        "\n",
        "        #coord = self.coord_model(coord, edge_index, coord_diff, edge_feat, edge_mask)\n",
        "        h, agg = self.node_model(h, edge_index, edge_feat, node_attr)\n",
        "\n",
        "        return h, coord, edge_attr"
      ]
    },
    {
      "cell_type": "code",
      "execution_count": null,
      "metadata": {
        "id": "L-nCdiv-BnG2"
      },
      "outputs": [],
      "source": [
        "def visualize(h, epoch=None, loss=None):\n",
        "    plt.figure(figsize=(7,7))\n",
        "    plt.xticks([])\n",
        "    plt.yticks([])\n",
        "\n",
        "    if torch.is_tensor(h):\n",
        "        h = h.detach().cpu().numpy()\n",
        "        plt.scatter(h[:, 0], h[:, 1], s=140, cmap=\"Set2\")\n",
        "        if epoch is not None and loss is not None:\n",
        "            plt.xlabel(f'Epoch: {epoch}, Loss: {loss.item():.4f}', fontsize=16)\n",
        "    else:\n",
        "        nx.draw_networkx(G, pos=nx.spring_layout(G, seed=42), with_labels=False,\n",
        "                          cmap=\"Set2\")\n",
        "    plt.show()"
      ]
    },
    {
      "cell_type": "code",
      "execution_count": null,
      "metadata": {
        "id": "Fj-P286iLmWc"
      },
      "outputs": [],
      "source": [
        "input_nf, output_nf, hidden_nf = 5, 1, 24\n",
        "\n",
        "e_gcl_layer = E_GCL_mask(input_nf, output_nf, hidden_nf)"
      ]
    },
    {
      "cell_type": "code",
      "execution_count": null,
      "metadata": {
        "id": "fGoxhV8dVfpn"
      },
      "outputs": [],
      "source": [
        "batch_size = 1\n",
        "n_nodes = 4\n",
        "p = 1\n",
        "coord_dim = 3\n",
        "edges, edge_attr, tensor_edge_mask, adj_list = get_graph_batch(batch_size, n_nodes, p)\n",
        "feat = torch.ones(batch_size * n_nodes, input_nf)\n",
        "#x = torch.rand(batch_size * n_nodes, coord_dim)\n",
        "x = torch.tensor([[0,0,0],[1,0,0],[0,1,0],[1,1,0]])"
      ]
    },
    {
      "cell_type": "code",
      "execution_count": null,
      "metadata": {
        "colab": {
          "base_uri": "https://localhost:8080/"
        },
        "id": "Lh63K3C0jUqT",
        "outputId": "aba10d95-3f60-4414-a185-dfd653e65bae"
      },
      "outputs": [
        {
          "data": {
            "text/plain": [
              "torch.Size([12])"
            ]
          },
          "execution_count": 36,
          "metadata": {
            "tags": []
          },
          "output_type": "execute_result"
        }
      ],
      "source": [
        "edges[0].shape"
      ]
    },
    {
      "cell_type": "code",
      "execution_count": null,
      "metadata": {
        "id": "ogg587BELehC"
      },
      "outputs": [],
      "source": [
        "h, x, edge_attr = e_gcl_layer(feat, edges, x, tensor_edge_mask)"
      ]
    },
    {
      "cell_type": "code",
      "execution_count": null,
      "metadata": {
        "id": "yVsIIaEua8XG"
      },
      "outputs": [],
      "source": [
        "h.shape"
      ]
    },
    {
      "cell_type": "markdown",
      "metadata": {
        "id": "NJHfbRE369U7"
      },
      "source": [
        "###Overfit"
      ]
    },
    {
      "cell_type": "code",
      "execution_count": null,
      "metadata": {
        "colab": {
          "base_uri": "https://localhost:8080/"
        },
        "id": "ViaWM6uceQhh",
        "outputId": "d86fc2ac-d615-4dd7-ee9f-7b5e81785001"
      },
      "outputs": [
        {
          "name": "stdout",
          "output_type": "stream",
          "text": [
            "Epoch: 1, MSE: 1.6456\n",
            "Epoch: 51, MSE: 1.5301\n",
            "Epoch: 101, MSE: 1.3233\n",
            "Epoch: 151, MSE: 1.0562\n",
            "Epoch: 201, MSE: 0.6513\n",
            "Epoch: 251, MSE: 0.4786\n",
            "Epoch: 301, MSE: 0.6678\n",
            "Epoch: 351, MSE: 0.7434\n",
            "Epoch: 401, MSE: 0.4029\n",
            "Epoch: 451, MSE: 0.3686\n",
            "Epoch: 501, MSE: 0.4575\n",
            "Epoch: 551, MSE: 0.4764\n",
            "Epoch: 601, MSE: 0.3027\n",
            "Epoch: 651, MSE: 0.1754\n",
            "Epoch: 701, MSE: 0.3022\n",
            "Epoch: 751, MSE: 0.3572\n",
            "Epoch: 801, MSE: 0.3375\n",
            "Epoch: 851, MSE: 0.2134\n",
            "Epoch: 901, MSE: 0.1066\n",
            "Epoch: 951, MSE: 0.0991\n",
            "Epoch: 1001, MSE: 0.1458\n",
            "Epoch: 1051, MSE: 0.1267\n",
            "Epoch: 1101, MSE: 0.0558\n",
            "Epoch: 1151, MSE: 0.0577\n",
            "Epoch: 1201, MSE: 0.1428\n",
            "Epoch: 1251, MSE: 0.1824\n",
            "Epoch: 1301, MSE: 0.1699\n",
            "Epoch: 1351, MSE: 0.1099\n",
            "Epoch: 1401, MSE: 0.0079\n",
            "Epoch: 1451, MSE: 0.0995\n",
            "Epoch: 1501, MSE: 0.1623\n",
            "Epoch: 1551, MSE: 0.1869\n",
            "Epoch: 1601, MSE: 0.1657\n",
            "Epoch: 1651, MSE: 0.0932\n",
            "Epoch: 1701, MSE: 0.0270\n",
            "Epoch: 1751, MSE: 0.1410\n",
            "Epoch: 1801, MSE: 0.1918\n",
            "Epoch: 1851, MSE: 0.1881\n",
            "Epoch: 1901, MSE: 0.1315\n",
            "Epoch: 1951, MSE: 0.0262\n",
            "Epoch: 2001, MSE: 0.0988\n",
            "Epoch: 2051, MSE: 0.1754\n",
            "Epoch: 2101, MSE: 0.2052\n",
            "Epoch: 2151, MSE: 0.1885\n",
            "Epoch: 2201, MSE: 0.0630\n",
            "Epoch: 2251, MSE: 0.1350\n",
            "Epoch: 2301, MSE: 0.1123\n",
            "Epoch: 2351, MSE: 0.0458\n",
            "Epoch: 2401, MSE: 0.0327\n",
            "Epoch: 2451, MSE: 0.0748\n",
            "Epoch: 2501, MSE: 0.0498\n",
            "Epoch: 2551, MSE: 0.0406\n",
            "Epoch: 2601, MSE: 0.1012\n",
            "Epoch: 2651, MSE: 0.0873\n",
            "Epoch: 2701, MSE: 0.0041\n",
            "Epoch: 2751, MSE: 0.1084\n",
            "Epoch: 2801, MSE: 0.1415\n",
            "Epoch: 2851, MSE: 0.0921\n",
            "Epoch: 2901, MSE: 0.0369\n",
            "Epoch: 2951, MSE: 0.1552\n",
            "Epoch: 3001, MSE: 0.1887\n",
            "Epoch: 3051, MSE: 0.1332\n",
            "Epoch: 3101, MSE: 0.0094\n",
            "Epoch: 3151, MSE: 0.1612\n",
            "Epoch: 3201, MSE: 0.2318\n",
            "Epoch: 3251, MSE: 0.2166\n",
            "Epoch: 3301, MSE: 0.1129\n",
            "Epoch: 3351, MSE: 0.0700\n",
            "Epoch: 3401, MSE: 0.2214\n",
            "Epoch: 3451, MSE: 0.2863\n",
            "Epoch: 3501, MSE: 0.2608\n",
            "Epoch: 3551, MSE: 0.1440\n",
            "Epoch: 3601, MSE: 0.0506\n",
            "Epoch: 3651, MSE: 0.2240\n",
            "Epoch: 3701, MSE: 0.3158\n",
            "Epoch: 3751, MSE: 0.3270\n",
            "Epoch: 3801, MSE: 0.2551\n",
            "Epoch: 3851, MSE: 0.1009\n",
            "Epoch: 3901, MSE: 0.1137\n",
            "Epoch: 3951, MSE: 0.2785\n"
          ]
        }
      ],
      "source": [
        "#Train:\n",
        "from torch import nn, optim\n",
        "optimizer = optim.Adam(e_gcl_layer.parameters(), lr=0.0001)\n",
        "loss_l1 = nn.L1Loss()\n",
        "max_epoch = 4000\n",
        "batch_size = 32\n",
        "n_nodes = 6\n",
        "p = 0.5\n",
        "coord_dim = 3\n",
        "l = 2.5\n",
        "label = torch.full((batch_size * n_nodes, input_nf), l)\n",
        "\n",
        "for i in range(max_epoch):\n",
        "  edges, edge_attr, tensor_edge_mask, adj_list = get_graph_batch(batch_size, n_nodes, p)\n",
        "  feat = torch.ones(batch_size * n_nodes, input_nf)\n",
        "  x = torch.rand(batch_size * n_nodes, coord_dim)\n",
        "  h_1, _, _ = e_gcl_layer(feat, edges, x, tensor_edge_mask)\n",
        "  loss = loss_l1(h_1, label)\n",
        "  loss.backward()\n",
        "  optimizer.step()\n",
        "  if i % 50 == 0:\n",
        "    print(\"Epoch: {}, MSE: {:.4f}\".format((i+1), loss))\n",
        "    "
      ]
    },
    {
      "cell_type": "code",
      "execution_count": null,
      "metadata": {
        "id": "s_deq4OBfJaJ"
      },
      "outputs": [],
      "source": [
        "edges, edge_attr, tensor_edge_mask = get_graph_batch(batch_size, n_nodes, p)\n",
        "feat = torch.ones(batch_size * n_nodes, input_nf)\n",
        "x = torch.rand(batch_size * n_nodes, coord_dim)\n",
        "h_1, _, _ = e_gcl_layer(feat, edges, x, tensor_edge_mask)"
      ]
    },
    {
      "cell_type": "code",
      "execution_count": null,
      "metadata": {
        "id": "nOpxPTJ9fPST"
      },
      "outputs": [],
      "source": [
        "h_1"
      ]
    },
    {
      "cell_type": "markdown",
      "metadata": {
        "id": "mz9gtZ1pYhRj"
      },
      "source": [
        "###EGNN"
      ]
    },
    {
      "cell_type": "code",
      "execution_count": null,
      "metadata": {
        "id": "wx0k7_-yZDAG"
      },
      "outputs": [],
      "source": [
        "class EGNN(nn.Module):\n",
        "    def __init__(self, in_node_nf, in_edge_nf, hidden_nf, device='cpu', act_fn=nn.SiLU(), n_layers=4, coords_weight=1.0, attention=False, node_attr=1):\n",
        "        super(EGNN, self).__init__()\n",
        "        self.hidden_nf = hidden_nf\n",
        "        self.device = device\n",
        "        self.n_layers = n_layers\n",
        "\n",
        "        ### Encoder\n",
        "        self.embedding = nn.Linear(in_node_nf, hidden_nf)\n",
        "        self.node_attr = node_attr\n",
        "        if node_attr:\n",
        "            n_node_attr = in_node_nf\n",
        "        else:\n",
        "            n_node_attr = 0\n",
        "        for i in range(0, n_layers):\n",
        "            self.add_module(\"gcl_%d\" % i, E_GCL_mask(self.hidden_nf, self.hidden_nf, self.hidden_nf, edges_in_d=in_edge_nf, nodes_attr_dim=n_node_attr, act_fn=act_fn, recurrent=True, coords_weight=coords_weight, attention=attention))\n",
        "\n",
        "        self.node_dec = nn.Sequential(nn.Linear(self.hidden_nf, self.hidden_nf),\n",
        "                                      act_fn,\n",
        "                                      nn.Linear(self.hidden_nf, 1))\n",
        "\n",
        "        self.graph_dec = nn.Sequential(nn.Linear(self.hidden_nf, self.hidden_nf),\n",
        "                                       act_fn,\n",
        "                                       nn.Linear(self.hidden_nf, 1))\n",
        "        self.to(self.device)\n",
        "\n",
        "    def forward(self, h0, x, edges, edge_attr, edge_mask, n_nodes):\n",
        "        h = self.embedding(h0)\n",
        "        for i in range(0, self.n_layers):\n",
        "            if self.node_attr:\n",
        "                h, x, _ = self._modules[\"gcl_%d\" % i](h, edges, x, edge_mask, edge_attr=edge_attr, node_attr=h0, n_nodes=n_nodes)\n",
        "            else:\n",
        "                h, x, _ = self._modules[\"gcl_%d\" % i](h, edges, x, edge_mask, edge_attr=edge_attr,\n",
        "                                                      node_attr=None, n_nodes=n_nodes)\n",
        "\n",
        "        pred = self.node_dec(h)\n",
        "        return pred.squeeze(1).reshape(-1,1), x\n"
      ]
    },
    {
      "cell_type": "code",
      "execution_count": null,
      "metadata": {
        "id": "4LRD-QP9h9mQ"
      },
      "outputs": [],
      "source": [
        "input_nf, output_nf, hidden_nf = 5, 1, 24\n",
        "\n",
        "egnn = EGNN(in_node_nf=input_nf, in_edge_nf=1, hidden_nf=hidden_nf, n_layers=2)"
      ]
    },
    {
      "cell_type": "code",
      "execution_count": null,
      "metadata": {
        "id": "kteCNCJ2ilN_"
      },
      "outputs": [],
      "source": [
        "n_nodes = 6\n",
        "p = 0.5\n",
        "coord_dim = 3\n",
        "batch_size = 32\n",
        "l = 2.5\n",
        "edges, edge_attr, tensor_edge_mask, adj_list = get_graph_batch(batch_size, n_nodes, p)\n",
        "feat = torch.ones(batch_size * n_nodes, input_nf)\n",
        "x = torch.rand(batch_size * n_nodes, coord_dim)\n",
        "h = egnn(feat, x, edges, edge_attr, tensor_edge_mask, n_nodes)"
      ]
    },
    {
      "cell_type": "code",
      "execution_count": null,
      "metadata": {
        "id": "NLp7BcyzhaW6"
      },
      "outputs": [],
      "source": [
        "h[0].shape"
      ]
    },
    {
      "cell_type": "code",
      "execution_count": null,
      "metadata": {
        "colab": {
          "base_uri": "https://localhost:8080/",
          "height": 232
        },
        "id": "NiOZep0_jN-2",
        "outputId": "c51a8aec-8631-498e-811d-c7e794243fa1"
      },
      "outputs": [
        {
          "ename": "NameError",
          "evalue": "ignored",
          "output_type": "error",
          "traceback": [
            "\u001b[0;31m---------------------------------------------------------------------------\u001b[0m",
            "\u001b[0;31mNameError\u001b[0m                                 Traceback (most recent call last)",
            "\u001b[0;32m<ipython-input-24-a0629570bc61>\u001b[0m in \u001b[0;36m<module>\u001b[0;34m()\u001b[0m\n\u001b[1;32m      8\u001b[0m \u001b[0mlabel\u001b[0m \u001b[0;34m=\u001b[0m \u001b[0mtorch\u001b[0m\u001b[0;34m.\u001b[0m\u001b[0mfull\u001b[0m\u001b[0;34m(\u001b[0m\u001b[0;34m(\u001b[0m\u001b[0mbatch_size\u001b[0m \u001b[0;34m*\u001b[0m \u001b[0mn_nodes\u001b[0m\u001b[0;34m,\u001b[0m \u001b[0mhidden_nf\u001b[0m\u001b[0;34m)\u001b[0m\u001b[0;34m,\u001b[0m \u001b[0ml\u001b[0m\u001b[0;34m)\u001b[0m\u001b[0;34m\u001b[0m\u001b[0;34m\u001b[0m\u001b[0m\n\u001b[1;32m      9\u001b[0m \u001b[0megnn\u001b[0m \u001b[0;34m=\u001b[0m \u001b[0mEGNN\u001b[0m\u001b[0;34m(\u001b[0m\u001b[0min_node_nf\u001b[0m\u001b[0;34m=\u001b[0m\u001b[0minput_nf\u001b[0m\u001b[0;34m,\u001b[0m \u001b[0min_edge_nf\u001b[0m\u001b[0;34m=\u001b[0m\u001b[0;36m1\u001b[0m\u001b[0;34m,\u001b[0m \u001b[0mhidden_nf\u001b[0m\u001b[0;34m=\u001b[0m\u001b[0mhidden_nf\u001b[0m\u001b[0;34m,\u001b[0m \u001b[0mn_layers\u001b[0m\u001b[0;34m=\u001b[0m\u001b[0;36m2\u001b[0m\u001b[0;34m)\u001b[0m\u001b[0;34m\u001b[0m\u001b[0;34m\u001b[0m\u001b[0m\n\u001b[0;32m---> 10\u001b[0;31m \u001b[0moptimizer_egnn\u001b[0m \u001b[0;34m=\u001b[0m \u001b[0moptim\u001b[0m\u001b[0;34m.\u001b[0m\u001b[0mAdam\u001b[0m\u001b[0;34m(\u001b[0m\u001b[0megnn\u001b[0m\u001b[0;34m.\u001b[0m\u001b[0mparameters\u001b[0m\u001b[0;34m(\u001b[0m\u001b[0;34m)\u001b[0m\u001b[0;34m,\u001b[0m \u001b[0mlr\u001b[0m\u001b[0;34m=\u001b[0m\u001b[0;36m0.0001\u001b[0m\u001b[0;34m)\u001b[0m\u001b[0;34m\u001b[0m\u001b[0;34m\u001b[0m\u001b[0m\n\u001b[0m\u001b[1;32m     11\u001b[0m \u001b[0mloss_l1_egnn\u001b[0m \u001b[0;34m=\u001b[0m \u001b[0mnn\u001b[0m\u001b[0;34m.\u001b[0m\u001b[0mL1Loss\u001b[0m\u001b[0;34m(\u001b[0m\u001b[0;34m)\u001b[0m\u001b[0;34m\u001b[0m\u001b[0;34m\u001b[0m\u001b[0m\n\u001b[1;32m     12\u001b[0m \u001b[0;34m\u001b[0m\u001b[0m\n",
            "\u001b[0;31mNameError\u001b[0m: name 'optim' is not defined"
          ]
        }
      ],
      "source": [
        "input_nf, output_nf, hidden_nf = 5, 1, 24\n",
        "max_epoch = 4000\n",
        "batch_size = 32\n",
        "n_nodes = 6\n",
        "p = 0.5\n",
        "coord_dim = 3\n",
        "l = 2.5\n",
        "label = torch.full((batch_size * n_nodes, hidden_nf), l)\n",
        "egnn = EGNN(in_node_nf=input_nf, in_edge_nf=1, hidden_nf=hidden_nf, n_layers=2)\n",
        "optimizer_egnn = optim.Adam(egnn.parameters(), lr=0.0001)\n",
        "loss_l1_egnn = nn.L1Loss()\n",
        "\n",
        "\n",
        "for i in range(max_epoch):\n",
        "  edges, edge_attr, tensor_edge_mask = get_graph_batch(batch_size, n_nodes, p)\n",
        "  feat = torch.ones(batch_size * n_nodes, input_nf)\n",
        "  x = torch.rand(batch_size * n_nodes, coord_dim)\n",
        "  h_1 = egnn(feat, x, edges, edge_attr, tensor_edge_mask, n_nodes)\n",
        "  loss = loss_l1_egnn(h_1, label)\n",
        "  loss.backward()\n",
        "  optimizer_egnn.step()\n",
        "  if i % 50 == 0:\n",
        "    print(\"Epoch: {}, MSE: {:.4f}\".format((i+1), loss))\n",
        "    "
      ]
    },
    {
      "cell_type": "code",
      "execution_count": null,
      "metadata": {
        "id": "tH_PkshPlfJ1"
      },
      "outputs": [],
      "source": [
        "edges, edge_attr, tensor_edge_mask = get_graph_batch(batch_size, n_nodes, p)\n",
        "feat = torch.rand(batch_size * n_nodes, input_nf)\n",
        "x = torch.rand(batch_size * n_nodes, coord_dim)\n",
        "h_1 = egnn(feat, x, edges, edge_attr, tensor_edge_mask, n_nodes)"
      ]
    },
    {
      "cell_type": "code",
      "execution_count": null,
      "metadata": {
        "id": "Hl3-QduHlZLC"
      },
      "outputs": [],
      "source": [
        "h_1"
      ]
    },
    {
      "cell_type": "markdown",
      "metadata": {
        "id": "CQIrtWmd1IQO"
      },
      "source": [
        "## Generate Labels"
      ]
    },
    {
      "cell_type": "code",
      "execution_count": null,
      "metadata": {
        "id": "9aRdkYFb1R1w"
      },
      "outputs": [],
      "source": [
        "from scipy.spatial.distance import pdist, squareform\n",
        "from scipy.spatial import ConvexHull\n",
        "class LabelGenerate():\n",
        "  def __init__(self, x, h, edges, edge_attr, batch_size, n_nodes, graphs):\n",
        "    # Returns (x', h'), where x' is invariant to E(n), and h' is equivariant to E(n)\n",
        "    #x' = x + g(x,h,G) = x + p(h)* A * phi(x) * f_1(x)\n",
        "    #h = p(h) * A * f_2(x)\n",
        "\n",
        "\n",
        "    self.x = x\n",
        "    self.h = h\n",
        "    self.edges = edges\n",
        "    self.edge_attr = edge_attr\n",
        "    self.batch_size = batch_size\n",
        "    self.n = n_nodes\n",
        "    self.graphs = graphs\n",
        "    #self.W = \n",
        "\n",
        "  def x_1(self, feat):\n",
        "    dmatrix = np.empty(shape=(self.batch_size , self.n, self.x.shape[1]))\n",
        "    c=0\n",
        "    for i in range(0, self.x.shape[0], self.n):\n",
        "\n",
        "      g = self.graphs[c]\n",
        "      graph = self.x[i:i+self.n]\n",
        "      s = graph[:, :, None] - graph[:, :, None].T\n",
        "      s_swap = np.array(np.swapaxes(s, 1, 2))\n",
        "      #f_x = (np.array(feat[i:i+self.n].sum(1)).reshape((self.n, 1, 1)) * s_swap * g.reshape((self.n,self.n,1))).sum(1)\n",
        "      f_x = (np.array(feat[i:i+self.n].sum(1)).reshape((self.n, 1, 1)) * s_swap ).sum(1)\n",
        "      dmatrix[c] = f_x\n",
        "      c+=1\n",
        "\n",
        "    return self.x + dmatrix.reshape(-1, dmatrix.shape[2])\n",
        "\n",
        "    \n",
        "\n",
        "  def h_1(self, feat, type_f2 = 'distance'):\n",
        "\n",
        "    if type_f2 == 'volume':\n",
        "    \n",
        "      volume = np.empty(shape = (self.batch_size, self.n, 1))\n",
        "      ones = np.ones(shape = (self.n, 1))\n",
        "      c = 0\n",
        "      for i in range(0, self.x.shape[0], self.n):\n",
        "        g = self.graphs[c]\n",
        "        coords = self.x[i:i+self.n]\n",
        "        #print(coords)\n",
        "        vol = ConvexHull(coords).volume\n",
        "        vol_array = ones * np.array(vol)\n",
        "        f_2x = np.array((feat[i:i+self.n].sum(1) * g @ vol_array))\n",
        "        volume[c] = f_2x\n",
        "        c+=1\n",
        "      h_1 = volume\n",
        "\n",
        "    elif type_f2 == 'area':\n",
        "\n",
        "      area = np.empty(shape = (self.batch_size, self.n, 1))\n",
        "      ones = np.ones(shape = (self.n, 1))\n",
        "      c = 0\n",
        "      for i in range(0, self.x.shape[0], self.n):\n",
        "        g = self.graphs[c]\n",
        "        coords = self.x[i:i+self.n]\n",
        "        #print(coords)\n",
        "        area_coord = ConvexHull(coords).area\n",
        "        area_array = ones * np.array(area_coord)\n",
        "        f_2x = np.array((feat[i:i+self.n].sum(1) * g @ area_array))\n",
        "        area[c] = f_2x\n",
        "        c+=1\n",
        "      h_1 = area\n",
        "\n",
        "    elif type_f2 == 'distance':\n",
        "      \n",
        "      dist = np.empty(shape = (self.batch_size, self.n, 1))\n",
        "      c = 0\n",
        "      \n",
        "      for i in range(0, self.x.shape[0], self.n):\n",
        "        g = self.graphs[c]\n",
        "        coords = self.x[i:i+self.n]\n",
        "        d = squareform(pdist(coords))\n",
        "        f_2x = (g * d * np.array(feat[i:i+self.n].sum(1))).sum(1)\n",
        "        dist[c] = f_2x.reshape(-1, 1)\n",
        "        c+=1\n",
        "        \n",
        "      h_1 = dist\n",
        "\n",
        "    elif type_f2 == 'angles':\n",
        "      angles = np.empty(shape = (self.batch_size, self.n, 1))\n",
        "      c = 0\n",
        "      for i in range(0, self.x.shape[0], self.n):\n",
        "        g = self.graphs[c]\n",
        "        coords = self.x[i:i+self.n]\n",
        "        d = np.zeros((self.n, self.n))\n",
        "        for i in range(self.n):\n",
        "          for j in range(self.n):\n",
        "            v = coords[i,:]\n",
        "            w = coords[j,:]\n",
        "            angle_ij = np.arccos(v.dot(w)/(np.linalg.norm(v)*np.linalg.norm(w)))\n",
        "            d[i,j] = angle_ij\n",
        "        d = squareform(pdist(coords))\n",
        "        f_2x = (g * d * np.array(feat[i:i+self.n].sum(1))).sum(1)\n",
        "        angles[c] = f_2x.reshape(-1, 1)\n",
        "        c+=1\n",
        "      h_1 = angles\n",
        "\n",
        "    return h_1.reshape(-1, h_1.shape[2])\n",
        "\n",
        "\n",
        "\n",
        "  def p(self):\n",
        "    #simply exponential\n",
        "    #return np.exp(self.h)\n",
        "    return self.h\n",
        "    #return np.ones(shape=self.h.shape)\n",
        "\n",
        "  def get_labels(self, type_f2 = 'distance'):\n",
        "\n",
        "    p = self.p()\n",
        "    x_1 = self.x_1(p)\n",
        "    h_1 = self.h_1(p, type_f2)\n",
        "    #Standard Normalization\n",
        "    #print(type(x_1))\n",
        "    #x_1 = (x_1 - torch.mean(x_1))/torch.std(x_1)\n",
        "    #h_1 = (h_1 - np.mean(h_1))/np.std(h_1)\n",
        "    #Frobenius Normalization\n",
        "    return x_1, h_1"
      ]
    },
    {
      "cell_type": "code",
      "execution_count": null,
      "metadata": {
        "id": "fHiBHy4E6PGz"
      },
      "outputs": [],
      "source": [
        "p=0.5\n",
        "graphs = []\n",
        "for i in range(batch_size):\n",
        "  G = nx.erdos_renyi_graph(n_nodes, p)\n",
        "  adj = np.array(nx.linalg.graphmatrix.adjacency_matrix(G).todense())\n",
        "  graphs.append(adj)"
      ]
    },
    {
      "cell_type": "code",
      "execution_count": null,
      "metadata": {
        "id": "LsU1fE4o6h9h"
      },
      "outputs": [],
      "source": [
        "l_gen = LabelGenerate(x, h, edges, edge_attr, batch_size, n_nodes, graphs)"
      ]
    },
    {
      "cell_type": "code",
      "execution_count": null,
      "metadata": {
        "id": "Gj1z4RLu8evW"
      },
      "outputs": [],
      "source": [
        "l_gen_2 = LabelGenerate(x + np.array([1,1,1]), h, edges, edge_attr, batch_size, n_nodes, graphs)"
      ]
    },
    {
      "cell_type": "code",
      "execution_count": null,
      "metadata": {
        "colab": {
          "base_uri": "https://localhost:8080/",
          "height": 324
        },
        "id": "kxxg-akG6mQH",
        "outputId": "db717bd7-08e6-487d-a06e-a0946aff2b0a"
      },
      "outputs": [
        {
          "ename": "ValueError",
          "evalue": "ignored",
          "output_type": "error",
          "traceback": [
            "\u001b[0;31m---------------------------------------------------------------------------\u001b[0m",
            "\u001b[0;31mValueError\u001b[0m                                Traceback (most recent call last)",
            "\u001b[0;32m<ipython-input-105-cd86d02d2d04>\u001b[0m in \u001b[0;36m<module>\u001b[0;34m()\u001b[0m\n\u001b[0;32m----> 1\u001b[0;31m \u001b[0mx_2\u001b[0m\u001b[0;34m,\u001b[0m \u001b[0mh_2\u001b[0m \u001b[0;34m=\u001b[0m  \u001b[0ml_gen\u001b[0m\u001b[0;34m.\u001b[0m\u001b[0mget_labels\u001b[0m\u001b[0;34m(\u001b[0m\u001b[0mtype_f2\u001b[0m \u001b[0;34m=\u001b[0m \u001b[0;34m'distance'\u001b[0m\u001b[0;34m)\u001b[0m\u001b[0;34m\u001b[0m\u001b[0;34m\u001b[0m\u001b[0m\n\u001b[0m",
            "\u001b[0;32m<ipython-input-89-1f7d8c2de7ab>\u001b[0m in \u001b[0;36mget_labels\u001b[0;34m(self, type_f2)\u001b[0m\n\u001b[1;32m    116\u001b[0m \u001b[0;34m\u001b[0m\u001b[0m\n\u001b[1;32m    117\u001b[0m     \u001b[0mp\u001b[0m \u001b[0;34m=\u001b[0m \u001b[0mself\u001b[0m\u001b[0;34m.\u001b[0m\u001b[0mp\u001b[0m\u001b[0;34m(\u001b[0m\u001b[0;34m)\u001b[0m\u001b[0;34m\u001b[0m\u001b[0;34m\u001b[0m\u001b[0m\n\u001b[0;32m--> 118\u001b[0;31m     \u001b[0mx_1\u001b[0m \u001b[0;34m=\u001b[0m \u001b[0mself\u001b[0m\u001b[0;34m.\u001b[0m\u001b[0mx_1\u001b[0m\u001b[0;34m(\u001b[0m\u001b[0mp\u001b[0m\u001b[0;34m)\u001b[0m\u001b[0;34m\u001b[0m\u001b[0;34m\u001b[0m\u001b[0m\n\u001b[0m\u001b[1;32m    119\u001b[0m     \u001b[0mh_1\u001b[0m \u001b[0;34m=\u001b[0m \u001b[0mself\u001b[0m\u001b[0;34m.\u001b[0m\u001b[0mh_1\u001b[0m\u001b[0;34m(\u001b[0m\u001b[0mp\u001b[0m\u001b[0;34m,\u001b[0m \u001b[0mtype_f2\u001b[0m\u001b[0;34m)\u001b[0m\u001b[0;34m\u001b[0m\u001b[0;34m\u001b[0m\u001b[0m\n\u001b[1;32m    120\u001b[0m     \u001b[0;31m#Standard Normalization\u001b[0m\u001b[0;34m\u001b[0m\u001b[0;34m\u001b[0m\u001b[0;34m\u001b[0m\u001b[0m\n",
            "\u001b[0;32m<ipython-input-89-1f7d8c2de7ab>\u001b[0m in \u001b[0;36mx_1\u001b[0;34m(self, feat)\u001b[0m\n\u001b[1;32m     27\u001b[0m       \u001b[0ms_swap\u001b[0m \u001b[0;34m=\u001b[0m \u001b[0mnp\u001b[0m\u001b[0;34m.\u001b[0m\u001b[0marray\u001b[0m\u001b[0;34m(\u001b[0m\u001b[0mnp\u001b[0m\u001b[0;34m.\u001b[0m\u001b[0mswapaxes\u001b[0m\u001b[0;34m(\u001b[0m\u001b[0ms\u001b[0m\u001b[0;34m,\u001b[0m \u001b[0;36m1\u001b[0m\u001b[0;34m,\u001b[0m \u001b[0;36m2\u001b[0m\u001b[0;34m)\u001b[0m\u001b[0;34m)\u001b[0m\u001b[0;34m\u001b[0m\u001b[0;34m\u001b[0m\u001b[0m\n\u001b[1;32m     28\u001b[0m       \u001b[0;31m#f_x = (np.array(feat[i:i+self.n].sum(1)).reshape((self.n, 1, 1)) * s_swap * g.reshape((self.n,self.n,1))).sum(1)\u001b[0m\u001b[0;34m\u001b[0m\u001b[0;34m\u001b[0m\u001b[0;34m\u001b[0m\u001b[0m\n\u001b[0;32m---> 29\u001b[0;31m       \u001b[0mf_x\u001b[0m \u001b[0;34m=\u001b[0m \u001b[0;34m(\u001b[0m\u001b[0mnp\u001b[0m\u001b[0;34m.\u001b[0m\u001b[0marray\u001b[0m\u001b[0;34m(\u001b[0m\u001b[0mfeat\u001b[0m\u001b[0;34m[\u001b[0m\u001b[0mi\u001b[0m\u001b[0;34m:\u001b[0m\u001b[0mi\u001b[0m\u001b[0;34m+\u001b[0m\u001b[0mself\u001b[0m\u001b[0;34m.\u001b[0m\u001b[0mn\u001b[0m\u001b[0;34m]\u001b[0m\u001b[0;34m.\u001b[0m\u001b[0msum\u001b[0m\u001b[0;34m(\u001b[0m\u001b[0;36m1\u001b[0m\u001b[0;34m)\u001b[0m\u001b[0;34m)\u001b[0m\u001b[0;34m.\u001b[0m\u001b[0mreshape\u001b[0m\u001b[0;34m(\u001b[0m\u001b[0;34m(\u001b[0m\u001b[0mself\u001b[0m\u001b[0;34m.\u001b[0m\u001b[0mn\u001b[0m\u001b[0;34m,\u001b[0m \u001b[0;36m1\u001b[0m\u001b[0;34m,\u001b[0m \u001b[0;36m1\u001b[0m\u001b[0;34m)\u001b[0m\u001b[0;34m)\u001b[0m \u001b[0;34m*\u001b[0m \u001b[0ms_swap\u001b[0m \u001b[0;34m)\u001b[0m\u001b[0;34m.\u001b[0m\u001b[0msum\u001b[0m\u001b[0;34m(\u001b[0m\u001b[0;36m1\u001b[0m\u001b[0;34m)\u001b[0m\u001b[0;34m\u001b[0m\u001b[0;34m\u001b[0m\u001b[0m\n\u001b[0m\u001b[1;32m     30\u001b[0m       \u001b[0mdmatrix\u001b[0m\u001b[0;34m[\u001b[0m\u001b[0mc\u001b[0m\u001b[0;34m]\u001b[0m \u001b[0;34m=\u001b[0m \u001b[0mf_x\u001b[0m\u001b[0;34m\u001b[0m\u001b[0;34m\u001b[0m\u001b[0m\n\u001b[1;32m     31\u001b[0m       \u001b[0mc\u001b[0m\u001b[0;34m+=\u001b[0m\u001b[0;36m1\u001b[0m\u001b[0;34m\u001b[0m\u001b[0;34m\u001b[0m\u001b[0m\n",
            "\u001b[0;31mValueError\u001b[0m: cannot reshape array of size 4 into shape (6,1,1)"
          ]
        }
      ],
      "source": [
        "x_2, h_2 =  l_gen.get_labels(type_f2 = 'distance')"
      ]
    },
    {
      "cell_type": "code",
      "execution_count": null,
      "metadata": {
        "id": "oZZX1b088X03"
      },
      "outputs": [],
      "source": [
        "x_3, h_3 =  l_gen_2.get_labels(type_f2 = 'distance')"
      ]
    },
    {
      "cell_type": "code",
      "execution_count": null,
      "metadata": {
        "colab": {
          "base_uri": "https://localhost:8080/"
        },
        "id": "1Vujroj48ZgV",
        "outputId": "18a36942-38b8-4586-a4a0-93659ac6d99a"
      },
      "outputs": [
        {
          "data": {
            "text/plain": [
              "0.0"
            ]
          },
          "execution_count": 37,
          "metadata": {
            "tags": []
          },
          "output_type": "execute_result"
        }
      ],
      "source": [
        "np.linalg.norm(h_3 - h_2)"
      ]
    },
    {
      "cell_type": "code",
      "execution_count": null,
      "metadata": {
        "colab": {
          "base_uri": "https://localhost:8080/"
        },
        "id": "QI2L7F36_mqu",
        "outputId": "b6092c66-a1f9-490e-b3cc-8d67a86ed44f"
      },
      "outputs": [
        {
          "data": {
            "text/plain": [
              "tensor([[1.0000, 1.0000, 1.0000],\n",
              "        [1.0000, 1.0000, 1.0000],\n",
              "        [1.0000, 1.0000, 1.0000],\n",
              "        [1.0000, 1.0000, 1.0000],\n",
              "        [1.0000, 1.0000, 1.0000],\n",
              "        [1.0000, 1.0000, 1.0000],\n",
              "        [1.0000, 1.0000, 1.0000],\n",
              "        [1.0000, 1.0000, 1.0000],\n",
              "        [1.0000, 1.0000, 1.0000],\n",
              "        [1.0000, 1.0000, 1.0000],\n",
              "        [1.0000, 1.0000, 1.0000],\n",
              "        [1.0000, 1.0000, 1.0000],\n",
              "        [1.0000, 1.0000, 1.0000],\n",
              "        [1.0000, 1.0000, 1.0000],\n",
              "        [1.0000, 1.0000, 1.0000],\n",
              "        [1.0000, 1.0000, 1.0000],\n",
              "        [1.0000, 1.0000, 1.0000],\n",
              "        [1.0000, 1.0000, 1.0000],\n",
              "        [1.0000, 1.0000, 1.0000],\n",
              "        [1.0000, 1.0000, 1.0000],\n",
              "        [1.0000, 1.0000, 1.0000],\n",
              "        [1.0000, 1.0000, 1.0000],\n",
              "        [1.0000, 1.0000, 1.0000],\n",
              "        [1.0000, 1.0000, 1.0000],\n",
              "        [1.0000, 1.0000, 1.0000],\n",
              "        [1.0000, 1.0000, 1.0000],\n",
              "        [1.0000, 1.0000, 1.0000],\n",
              "        [1.0000, 1.0000, 1.0000],\n",
              "        [1.0000, 1.0000, 1.0000],\n",
              "        [1.0000, 1.0000, 1.0000],\n",
              "        [1.0000, 1.0000, 1.0000],\n",
              "        [1.0000, 1.0000, 1.0000],\n",
              "        [1.0000, 1.0000, 1.0000],\n",
              "        [1.0000, 1.0000, 1.0000],\n",
              "        [1.0000, 1.0000, 1.0000],\n",
              "        [1.0000, 1.0000, 1.0000]], dtype=torch.float64)"
            ]
          },
          "execution_count": 38,
          "metadata": {
            "tags": []
          },
          "output_type": "execute_result"
        }
      ],
      "source": [
        "x_3 - x_2"
      ]
    },
    {
      "cell_type": "code",
      "execution_count": null,
      "metadata": {
        "colab": {
          "base_uri": "https://localhost:8080/"
        },
        "id": "RXfeK4S380n1",
        "outputId": "51bd7c07-98a3-4abe-c79c-61770a294c54"
      },
      "outputs": [
        {
          "data": {
            "text/plain": [
              "array([[0.07743948],\n",
              "       [0.02725298],\n",
              "       [0.10319543],\n",
              "       [0.07248706],\n",
              "       [0.13208133],\n",
              "       [0.05677085],\n",
              "       [0.08703128],\n",
              "       [0.08808563],\n",
              "       [0.06125402],\n",
              "       [0.09030158],\n",
              "       [0.07095722],\n",
              "       [0.15491455],\n",
              "       [0.09135788],\n",
              "       [0.10850103],\n",
              "       [0.        ],\n",
              "       [0.103842  ],\n",
              "       [0.10191548],\n",
              "       [0.06669638],\n",
              "       [0.09313365],\n",
              "       [0.10901485],\n",
              "       [0.06001022],\n",
              "       [0.11550358],\n",
              "       [0.08351206],\n",
              "       [0.0555909 ],\n",
              "       [0.11122989],\n",
              "       [0.10611257],\n",
              "       [0.08184737],\n",
              "       [0.03302928],\n",
              "       [0.02202014],\n",
              "       [0.02761344],\n",
              "       [0.0953065 ],\n",
              "       [0.07613777],\n",
              "       [0.07389257],\n",
              "       [0.10747883],\n",
              "       [0.0649263 ],\n",
              "       [0.03969524]])"
            ]
          },
          "execution_count": 38,
          "metadata": {
            "tags": []
          },
          "output_type": "execute_result"
        }
      ],
      "source": [
        "h_2"
      ]
    },
    {
      "cell_type": "markdown",
      "metadata": {
        "id": "lY_Dw6Aa6TKv"
      },
      "source": [
        "##Experiment 1:"
      ]
    },
    {
      "cell_type": "code",
      "execution_count": null,
      "metadata": {
        "id": "jvd9FiZ17HWW"
      },
      "outputs": [],
      "source": [
        "#Fixed Graph and Node Features: \n",
        "#Vary Label Functions. Try to find Equivariant Labels that EGNN can't learn by MPNN does."
      ]
    },
    {
      "cell_type": "code",
      "execution_count": null,
      "metadata": {
        "colab": {
          "base_uri": "https://localhost:8080/"
        },
        "id": "ijwpxyziSvO4",
        "outputId": "8f47d876-cc07-4c19-c33f-43df490c2528"
      },
      "outputs": [
        {
          "data": {
            "text/plain": [
              "tensor([[0.5105],\n",
              "        [0.3904],\n",
              "        [0.5372]])"
            ]
          },
          "execution_count": 113,
          "metadata": {
            "tags": []
          },
          "output_type": "execute_result"
        }
      ],
      "source": [
        "torch.normal(mean= 0.5, std=0.1, size=(3,1))"
      ]
    },
    {
      "cell_type": "code",
      "execution_count": null,
      "metadata": {
        "id": "IyNMFKOAbTNx"
      },
      "outputs": [],
      "source": [
        "#GENERATE DATASET:\n",
        "\n",
        "#Generate a graph:\n",
        "n_nodes = 6\n",
        "p = 0.5\n",
        "edges, edge_attr, tensor_edge_mask, adj_list = get_graph_batch(1, n_nodes, p)\n",
        "input_nf, output_nf, hidden_nf, coords = 5, 1, 24, 3\n",
        "mu, sigma = 0,1\n",
        "\n",
        "#Dataset(Train-Val-Test)\n",
        "\n",
        "#Train:\n",
        "\n",
        "training_set_size = 10000\n",
        "adj_list_tr = adj_list * training_set_size\n",
        "edges_0_tr = torch.cat([edges[0]] * training_set_size)\n",
        "edges_1_tr = torch.cat([edges[1]] * training_set_size)\n",
        "edges_tr = [edges_0_tr, edges_1_tr]\n",
        "edge_attr_tr = torch.cat([edge_attr] * training_set_size)\n",
        "tensor_edge_mask_tr = torch.cat([tensor_edge_mask] * training_set_size)\n",
        "\n",
        "#Generare Node Features and Coordinates\n",
        "feat_tr = torch.ones(training_set_size * n_nodes, input_nf)\n",
        "coord_tr = torch.normal(mean=mu,std=sigma,size=(training_set_size * n_nodes, coords))\n",
        "\n",
        "#Val:\n",
        "validation_set_size = 500\n",
        "adj_list_val = adj_list * validation_set_size\n",
        "edges_0_val = torch.cat([edges[0]] * validation_set_size)\n",
        "edges_1_val = torch.cat([edges[1]] * validation_set_size)\n",
        "edges_val = [edges_0_val, edges_1_val]\n",
        "edge_attr_val = torch.cat([edge_attr] * validation_set_size)\n",
        "tensor_edge_mask_val = torch.cat([tensor_edge_mask] * validation_set_size)\n",
        "\n",
        "#Generare Node Features and Coordinates\n",
        "feat_val = torch.ones(validation_set_size * n_nodes, input_nf)\n",
        "coord_val = torch.normal(mean=mu,std=sigma,size=(validation_set_size * n_nodes, coords))\n",
        "\n",
        "#Test:\n",
        "test_set_size = 500\n",
        "adj_list_test = adj_list * test_set_size\n",
        "edges_0_test = torch.cat([edges[0]] * test_set_size)\n",
        "edges_1_test = torch.cat([edges[1]] * test_set_size)\n",
        "edges_test = [edges_0_test, edges_1_test]\n",
        "edge_attr_test = torch.cat([edge_attr] * test_set_size)\n",
        "tensor_edge_mask_test = torch.cat([tensor_edge_mask] * test_set_size)\n",
        "\n",
        "#Generare Node Features and Coordinates\n",
        "feat_test = torch.ones(test_set_size * n_nodes, input_nf)\n",
        "coord_test = torch.normal(mean=mu,std=sigma,size=(test_set_size * n_nodes, coords))\n",
        "\n",
        "#Generate Labels: Training Set\n",
        "l_gen_tr = LabelGenerate(coord_tr, feat_tr, edges_tr, edge_attr_tr, training_set_size, n_nodes, adj_list_tr)\n",
        "x_tr, h_tr =  l_gen_tr.get_labels(type_f2 = 'distance')\n",
        "#Generate Labels: Validation Set\n",
        "l_gen_val = LabelGenerate(coord_val, feat_val, edges_val, edge_attr_val, validation_set_size, n_nodes, adj_list_val)\n",
        "x_val, h_val =  l_gen_val.get_labels(type_f2 = 'distance')\n",
        "#Generate Labels: Test Set\n",
        "l_gen_test = LabelGenerate(coord_test, feat_test, edges_test, edge_attr_test, test_set_size, n_nodes, adj_list_test)\n",
        "x_test, h_test =  l_gen_test.get_labels(type_f2 = 'distance')\n"
      ]
    },
    {
      "cell_type": "code",
      "execution_count": null,
      "metadata": {
        "id": "GDBvZrLA0Mio"
      },
      "outputs": [],
      "source": [
        "#Shuffle Training Set\n",
        "def shuffle(adj_list, edges_0, edges_1, edge_attr, tensor_edge_mask, feat, coord, x_label, h_label, training_set_size, n_nodes):\n",
        "  perm = np.random.permutation(training_set_size)\n",
        "  adj_list = [adj_list[i] for i in perm]\n",
        "  feat = torch.cat([feat[n_nodes*i:n_nodes*i + n_nodes, :] for i in perm])\n",
        "  coord = torch.cat([coord[n_nodes*i:n_nodes*i + n_nodes, :] for i in perm])\n",
        "  tensor_edge_mask = torch.cat([tensor_edge_mask[n_nodes*(n_nodes-1)*i:n_nodes*(n_nodes-1)*i + n_nodes*(n_nodes-1), :] for i in perm])\n",
        "  edge_attr = torch.cat([edge_attr[n_nodes*(n_nodes-1)*i:n_nodes*(n_nodes-1)*i + n_nodes*(n_nodes-1), :] for i in perm])\n",
        "  edges_0 = torch.cat([edges_0[n_nodes*(n_nodes-1)*i:n_nodes*(n_nodes-1)*i + n_nodes*(n_nodes-1)] for i in perm])\n",
        "  edges_1 = torch.cat([edges_1[n_nodes*(n_nodes-1)*i:n_nodes*(n_nodes-1)*i + n_nodes*(n_nodes-1)] for i in perm])\n",
        "  edges = [edges_0, edges_1]\n",
        "  x_label = torch.cat([x_label[n_nodes*i:n_nodes*i + n_nodes, :] for i in perm])\n",
        "  h_label = np.concatenate([h_label[n_nodes*i:n_nodes*i + n_nodes, :] for i in perm])\n",
        "  return adj_list, feat, coord, tensor_edge_mask, edge_attr, edges, x_label, h_label"
      ]
    },
    {
      "cell_type": "code",
      "execution_count": null,
      "metadata": {
        "id": "DoDoh2K5Bgry"
      },
      "outputs": [],
      "source": [
        "adj_list_tr, feat_tr, coord_tr, tensor_edge_mask_tr, edge_attr_tr, edges_tr, x_tr, h_tr = shuffle(adj_list_tr, \n",
        "                                                                                                  edges_0_tr, \n",
        "                                                                                                  edges_1_tr, \n",
        "                                                                                                  edge_attr_tr, \n",
        "                                                                                                  tensor_edge_mask_tr, \n",
        "                                                                                                  feat_tr, coord_tr, x_tr, h_tr,\n",
        "                                                                                                  training_set_size, n_nodes)"
      ]
    },
    {
      "cell_type": "code",
      "execution_count": null,
      "metadata": {
        "id": "H-pV8bRcEmiy"
      },
      "outputs": [],
      "source": [
        "mpnn = MPNN(in_node_nf=input_nf, coords=coords, in_edge_nf=1, hidden_nf=hidden_nf, n_layers=2)\n",
        "egnn = EGNN(in_node_nf=input_nf, in_edge_nf=1, hidden_nf=hidden_nf, n_layers=2)\n"
      ]
    },
    {
      "cell_type": "code",
      "execution_count": null,
      "metadata": {
        "colab": {
          "base_uri": "https://localhost:8080/",
          "height": 494
        },
        "id": "hLHjCMl8Yfjk",
        "outputId": "79f32aa9-0df1-4b2d-8bd9-0ab0362b0632"
      },
      "outputs": [
        {
          "name": "stdout",
          "output_type": "stream",
          "text": [
            "Epoch: 1, Iteration: 0, MPNN MSE: 24.3746, EGNN MSE: 23.7716\n",
            "Epoch: 1, Iteration: 50, MPNN MSE: 24.9609, EGNN MSE: 24.4464\n",
            "Epoch: 2, Iteration: 0, MPNN MSE: 24.0601, EGNN MSE: 23.5729\n",
            "Epoch: 2, Iteration: 50, MPNN MSE: 24.7330, EGNN MSE: 24.2888\n",
            "Epoch: 3, Iteration: 0, MPNN MSE: 23.7164, EGNN MSE: 23.3453\n",
            "Epoch: 3, Iteration: 50, MPNN MSE: 24.1838, EGNN MSE: 23.8147\n"
          ]
        },
        {
          "ename": "KeyboardInterrupt",
          "evalue": "ignored",
          "output_type": "error",
          "traceback": [
            "\u001b[0;31m---------------------------------------------------------------------------\u001b[0m",
            "\u001b[0;31mKeyboardInterrupt\u001b[0m                         Traceback (most recent call last)",
            "\u001b[0;32m<ipython-input-25-bf4f6a0bc45f>\u001b[0m in \u001b[0;36m<module>\u001b[0;34m()\u001b[0m\n\u001b[1;32m     41\u001b[0m     \u001b[0mloss_egnn\u001b[0m \u001b[0;34m=\u001b[0m \u001b[0mloss_l1_egnn\u001b[0m\u001b[0;34m(\u001b[0m\u001b[0mout_egnn\u001b[0m\u001b[0;34m,\u001b[0m \u001b[0mlabel\u001b[0m\u001b[0;34m)\u001b[0m\u001b[0;34m\u001b[0m\u001b[0;34m\u001b[0m\u001b[0m\n\u001b[1;32m     42\u001b[0m     \u001b[0mloss_mpnn\u001b[0m\u001b[0;34m.\u001b[0m\u001b[0mbackward\u001b[0m\u001b[0;34m(\u001b[0m\u001b[0;34m)\u001b[0m\u001b[0;34m\u001b[0m\u001b[0;34m\u001b[0m\u001b[0m\n\u001b[0;32m---> 43\u001b[0;31m     \u001b[0mloss_egnn\u001b[0m\u001b[0;34m.\u001b[0m\u001b[0mbackward\u001b[0m\u001b[0;34m(\u001b[0m\u001b[0;34m)\u001b[0m\u001b[0;34m\u001b[0m\u001b[0;34m\u001b[0m\u001b[0m\n\u001b[0m\u001b[1;32m     44\u001b[0m     \u001b[0moptimizer_mpnn\u001b[0m\u001b[0;34m.\u001b[0m\u001b[0mstep\u001b[0m\u001b[0;34m(\u001b[0m\u001b[0;34m)\u001b[0m\u001b[0;34m\u001b[0m\u001b[0;34m\u001b[0m\u001b[0m\n\u001b[1;32m     45\u001b[0m     \u001b[0moptimizer_egnn\u001b[0m\u001b[0;34m.\u001b[0m\u001b[0mstep\u001b[0m\u001b[0;34m(\u001b[0m\u001b[0;34m)\u001b[0m\u001b[0;34m\u001b[0m\u001b[0;34m\u001b[0m\u001b[0m\n",
            "\u001b[0;32m/usr/local/lib/python3.7/dist-packages/torch/tensor.py\u001b[0m in \u001b[0;36mbackward\u001b[0;34m(self, gradient, retain_graph, create_graph, inputs)\u001b[0m\n\u001b[1;32m    243\u001b[0m                 \u001b[0mcreate_graph\u001b[0m\u001b[0;34m=\u001b[0m\u001b[0mcreate_graph\u001b[0m\u001b[0;34m,\u001b[0m\u001b[0;34m\u001b[0m\u001b[0;34m\u001b[0m\u001b[0m\n\u001b[1;32m    244\u001b[0m                 inputs=inputs)\n\u001b[0;32m--> 245\u001b[0;31m         \u001b[0mtorch\u001b[0m\u001b[0;34m.\u001b[0m\u001b[0mautograd\u001b[0m\u001b[0;34m.\u001b[0m\u001b[0mbackward\u001b[0m\u001b[0;34m(\u001b[0m\u001b[0mself\u001b[0m\u001b[0;34m,\u001b[0m \u001b[0mgradient\u001b[0m\u001b[0;34m,\u001b[0m \u001b[0mretain_graph\u001b[0m\u001b[0;34m,\u001b[0m \u001b[0mcreate_graph\u001b[0m\u001b[0;34m,\u001b[0m \u001b[0minputs\u001b[0m\u001b[0;34m=\u001b[0m\u001b[0minputs\u001b[0m\u001b[0;34m)\u001b[0m\u001b[0;34m\u001b[0m\u001b[0;34m\u001b[0m\u001b[0m\n\u001b[0m\u001b[1;32m    246\u001b[0m \u001b[0;34m\u001b[0m\u001b[0m\n\u001b[1;32m    247\u001b[0m     \u001b[0;32mdef\u001b[0m \u001b[0mregister_hook\u001b[0m\u001b[0;34m(\u001b[0m\u001b[0mself\u001b[0m\u001b[0;34m,\u001b[0m \u001b[0mhook\u001b[0m\u001b[0;34m)\u001b[0m\u001b[0;34m:\u001b[0m\u001b[0;34m\u001b[0m\u001b[0;34m\u001b[0m\u001b[0m\n",
            "\u001b[0;32m/usr/local/lib/python3.7/dist-packages/torch/autograd/__init__.py\u001b[0m in \u001b[0;36mbackward\u001b[0;34m(tensors, grad_tensors, retain_graph, create_graph, grad_variables, inputs)\u001b[0m\n\u001b[1;32m    145\u001b[0m     Variable._execution_engine.run_backward(\n\u001b[1;32m    146\u001b[0m         \u001b[0mtensors\u001b[0m\u001b[0;34m,\u001b[0m \u001b[0mgrad_tensors_\u001b[0m\u001b[0;34m,\u001b[0m \u001b[0mretain_graph\u001b[0m\u001b[0;34m,\u001b[0m \u001b[0mcreate_graph\u001b[0m\u001b[0;34m,\u001b[0m \u001b[0minputs\u001b[0m\u001b[0;34m,\u001b[0m\u001b[0;34m\u001b[0m\u001b[0;34m\u001b[0m\u001b[0m\n\u001b[0;32m--> 147\u001b[0;31m         allow_unreachable=True, accumulate_grad=True)  # allow_unreachable flag\n\u001b[0m\u001b[1;32m    148\u001b[0m \u001b[0;34m\u001b[0m\u001b[0m\n\u001b[1;32m    149\u001b[0m \u001b[0;34m\u001b[0m\u001b[0m\n",
            "\u001b[0;31mKeyboardInterrupt\u001b[0m: "
          ]
        }
      ],
      "source": [
        "#Train\n",
        "from torch import nn, optim\n",
        "\n",
        "max_epoch = 1000\n",
        "optimizer_mpnn = optim.Adam(mpnn.parameters(), lr=0.0001)\n",
        "loss_l1_mpnn = nn.L1Loss()\n",
        "optimizer_egnn = optim.Adam(egnn.parameters(), lr=0.0001)\n",
        "loss_l1_egnn = nn.L1Loss()\n",
        "batch_size = 100\n",
        "iteration = training_set_size // batch_size\n",
        "\n",
        "for i in range(max_epoch):\n",
        "  \"\"\"adj_list_tr, feat_tr, coord_tr, tensor_edge_mask_tr, edge_attr_tr, edges_tr, x_tr, h_tr = shuffle(adj_list_tr, \n",
        "                                                                                                    edges_0_tr, \n",
        "                                                                                                    edges_1_tr, \n",
        "                                                                                                    edge_attr_tr, \n",
        "                                                                                                    tensor_edge_mask_tr, \n",
        "                                                                                                    feat_tr, coord_tr, x_tr, h_tr,\n",
        "                                                                                                    training_set_size, n_nodes)\n",
        "  \"\"\"\n",
        "  for iters in range(iteration):\n",
        "    #Each iteration is process #batch_size number of graphs\n",
        "\n",
        "    coord = coord_tr[iters*batch_size*n_nodes:(iters+1)*batch_size*n_nodes,:]\n",
        "    feat = feat_tr[iters*batch_size*n_nodes:(iters+1)*batch_size*n_nodes,:]\n",
        "    x_1 = x_tr[iters*batch_size*n_nodes:(iters+1)*batch_size*n_nodes,:]\n",
        "    h_1 = h_tr[iters*batch_size*n_nodes:(iters+1)*batch_size*n_nodes,:]\n",
        "    h_1 = torch.tensor(h_1)\n",
        "    edges_0 = edges_tr[0][iters*batch_size*n_nodes*(n_nodes-1):(iters+1)*batch_size*n_nodes*(n_nodes-1)]\n",
        "    edges_1 = edges_tr[1][iters*batch_size*n_nodes*(n_nodes-1):(iters+1)*batch_size*n_nodes*(n_nodes-1)]\n",
        "    edges = [edges_0, edges_1]\n",
        "    \n",
        "    edge_attr = edge_attr_tr[iters*batch_size*n_nodes*(n_nodes-1):(iters+1)*batch_size*n_nodes*(n_nodes-1),:]\n",
        "    tensor_edge_mask = tensor_edge_mask_tr[iters*batch_size*n_nodes*(n_nodes-1):(iters+1)*batch_size*n_nodes*(n_nodes-1),:]\n",
        "    x = torch.cat([feat, coord], axis=1)\n",
        "    out_mpnn = mpnn(x, edges, edge_attr, tensor_edge_mask, n_nodes)\n",
        "    #h_mpnn, x_mpnn = out_mpnn[:,0], out_mpnn[:,1:]\n",
        "    h_egnn, x_egnn = egnn(feat, coord, edges, edge_attr, tensor_edge_mask, n_nodes)\n",
        "    out_egnn = torch.cat([x_egnn, h_egnn],axis=1)\n",
        "    label = torch.cat([x_1, h_1], axis=1)\n",
        "    loss_mpnn = loss_l1_mpnn(out_mpnn, label)\n",
        "    loss_egnn = loss_l1_egnn(out_egnn, label)\n",
        "    loss_mpnn.backward()\n",
        "    loss_egnn.backward()\n",
        "    optimizer_mpnn.step()\n",
        "    optimizer_egnn.step()\n",
        "    if iters % 50 == 0:\n",
        "      print(\"Epoch: {}, Iteration: {}, MPNN MSE: {:.4f}, EGNN MSE: {:.4f}\".format((i+1), iters, loss_mpnn, loss_egnn))\n",
        "      \n"
      ]
    },
    {
      "cell_type": "code",
      "execution_count": null,
      "metadata": {
        "colab": {
          "base_uri": "https://localhost:8080/"
        },
        "id": "MW57sIRmwM9k",
        "outputId": "7ce3d743-c8fb-477c-ab74-e06199ecb7c4"
      },
      "outputs": [
        {
          "name": "stdout",
          "output_type": "stream",
          "text": [
            "torch.Size([3000])\n"
          ]
        }
      ],
      "source": [
        "print(edges_0.shape)"
      ]
    },
    {
      "cell_type": "code",
      "execution_count": null,
      "metadata": {
        "colab": {
          "base_uri": "https://localhost:8080/"
        },
        "id": "qoqmowsiwXdW",
        "outputId": "de3b3633-cbef-4c35-c92b-0142711452b1"
      },
      "outputs": [
        {
          "data": {
            "text/plain": [
              "tensor([0, 0, 0, 0, 0, 1, 1, 1, 1, 1, 2, 2, 2, 2, 2, 3, 3, 3, 3, 3, 4, 4, 4, 4,\n",
              "        4, 5, 5, 5, 5, 5])"
            ]
          },
          "execution_count": 36,
          "metadata": {
            "tags": []
          },
          "output_type": "execute_result"
        }
      ],
      "source": [
        "edges_0[:30]"
      ]
    },
    {
      "cell_type": "code",
      "execution_count": null,
      "metadata": {
        "colab": {
          "base_uri": "https://localhost:8080/"
        },
        "id": "0tiBnpdMw6TJ",
        "outputId": "3bc88725-af85-4097-924c-1621e9e050fd"
      },
      "outputs": [
        {
          "data": {
            "text/plain": [
              "tensor([1, 2, 3, 4, 5, 0, 2, 3, 4, 5, 0, 1, 3, 4, 5, 0, 1, 2, 4, 5, 0, 1, 2, 3,\n",
              "        5, 0, 1, 2, 3, 4])"
            ]
          },
          "execution_count": 37,
          "metadata": {
            "tags": []
          },
          "output_type": "execute_result"
        }
      ],
      "source": [
        "edges_1[:30]"
      ]
    },
    {
      "cell_type": "code",
      "execution_count": null,
      "metadata": {
        "colab": {
          "base_uri": "https://localhost:8080/"
        },
        "id": "HB36Fm8hw8sQ",
        "outputId": "51c1a8b5-a905-4ea2-8534-cde317da0960"
      },
      "outputs": [
        {
          "data": {
            "text/plain": [
              "array([[0, 0, 0, 1, 1, 0],\n",
              "       [0, 0, 1, 1, 0, 1],\n",
              "       [0, 1, 0, 1, 0, 0],\n",
              "       [1, 1, 1, 0, 0, 1],\n",
              "       [1, 0, 0, 0, 0, 1],\n",
              "       [0, 1, 0, 1, 1, 0]], dtype=int64)"
            ]
          },
          "execution_count": 38,
          "metadata": {
            "tags": []
          },
          "output_type": "execute_result"
        }
      ],
      "source": [
        "adj_list[0]"
      ]
    },
    {
      "cell_type": "code",
      "execution_count": null,
      "metadata": {
        "colab": {
          "base_uri": "https://localhost:8080/"
        },
        "id": "92wmrbgUwqAt",
        "outputId": "2664d4e1-5be6-420b-f0a8-2b64fb40c74b"
      },
      "outputs": [
        {
          "data": {
            "text/plain": [
              "torch.Size([300000])"
            ]
          },
          "execution_count": 35,
          "metadata": {
            "tags": []
          },
          "output_type": "execute_result"
        }
      ],
      "source": [
        "edges_tr[0].shape"
      ]
    },
    {
      "cell_type": "code",
      "execution_count": null,
      "metadata": {
        "colab": {
          "base_uri": "https://localhost:8080/"
        },
        "id": "Jvt1DU7nwU6B",
        "outputId": "2f216a62-9626-4797-97d5-71572a5dea75"
      },
      "outputs": [
        {
          "name": "stdout",
          "output_type": "stream",
          "text": [
            "torch.Size([600, 8])\n"
          ]
        }
      ],
      "source": [
        "print(x.shape)"
      ]
    },
    {
      "cell_type": "markdown",
      "metadata": {
        "id": "eRDNWx6G6XCQ"
      },
      "source": [
        "##Experiment 2:"
      ]
    },
    {
      "cell_type": "code",
      "execution_count": null,
      "metadata": {
        "id": "TUy_45IF7H7O"
      },
      "outputs": [],
      "source": [
        "#2a) Fix Graph, Vary Random Node Features and X. \n",
        "#2b) Fix Random Node Features, Vary Graph and X\n",
        "#2c) Fix X. Vary Random Node Features and Graph\n",
        "# In which case is data efficiency helped the most. What is the effect of X on the label\n",
        "# Does random node feature make sense?\n"
      ]
    },
    {
      "cell_type": "code",
      "execution_count": null,
      "metadata": {
        "id": "NcoFGtGQmitG"
      },
      "outputs": [],
      "source": []
    },
    {
      "cell_type": "markdown",
      "metadata": {
        "id": "jp5sYtAr6aDJ"
      },
      "source": [
        "##Experiment 3:"
      ]
    },
    {
      "cell_type": "code",
      "execution_count": null,
      "metadata": {
        "id": "BXTs95Y97Iho"
      },
      "outputs": [],
      "source": [
        "# Vary G, Random Node Features and X. \n",
        "# Compare data efficiency of MPNN compared to Standard MPNN."
      ]
    },
    {
      "cell_type": "code",
      "execution_count": null,
      "metadata": {
        "id": "dzUnBGRUmiWa"
      },
      "outputs": [],
      "source": [
        "#GENERATE DATASET:\n",
        "\n",
        "n_nodes = 4\n",
        "p = 0.5\n",
        "input_nf, output_nf, hidden_nf, coords = 4, 1, 24, 3\n",
        "mu_x, sigma_x, mu_h, sigma_h = 0, 1, 1.5, 0.01\n",
        "\n",
        "#Dataset(Train-Val-Test)\n",
        "\n",
        "#Train:\n",
        "\n",
        "training_set_size = 10000\n",
        "batch_size = 100\n",
        "edges_tr, edge_attr_tr, tensor_edge_mask_tr, adj_list_tr = get_graph_batch(training_set_size, n_nodes, p)\n",
        "\n",
        "#Generate Node Features and Coordinates\n",
        "feat_tr = torch.normal(mean=mu_x,std=sigma_x, size=(training_set_size * n_nodes, input_nf))\n",
        "coord_tr = torch.normal(mean=mu_h,std=sigma_h,size=(training_set_size * n_nodes, coords))\n",
        "\n",
        "#Generate Labels: Training Set\n",
        "l_gen_tr = LabelGenerate(coord_tr, feat_tr, edges_tr, edge_attr_tr, training_set_size, n_nodes, adj_list_tr)\n",
        "x_tr, h_tr =  l_gen_tr.get_labels(type_f2 = 'distance')\n",
        "\n",
        "#Initializr NN:\n",
        "mpnn = MPNN(in_node_nf=input_nf, coords=coords, in_edge_nf=1, hidden_nf=hidden_nf, n_layers=2)\n",
        "egnn = EGNN(in_node_nf=input_nf, in_edge_nf=1, hidden_nf=hidden_nf, n_layers=2)\n",
        "\n"
      ]
    },
    {
      "cell_type": "code",
      "execution_count": null,
      "metadata": {
        "colab": {
          "base_uri": "https://localhost:8080/"
        },
        "id": "Sc75_sWKxQVw",
        "outputId": "0972766c-5bd8-4c63-e89a-9bf41b119aa4"
      },
      "outputs": [
        {
          "data": {
            "text/plain": [
              "tensor([4, 4, 4, 5, 5, 5, 6, 6, 6, 7, 7, 7])"
            ]
          },
          "execution_count": 45,
          "metadata": {
            "tags": []
          },
          "output_type": "execute_result"
        }
      ],
      "source": [
        "edges_tr[0][12:24]"
      ]
    },
    {
      "cell_type": "code",
      "execution_count": null,
      "metadata": {
        "colab": {
          "base_uri": "https://localhost:8080/"
        },
        "id": "a8LhAtz8xTk4",
        "outputId": "c2f36c68-ad3d-4ad3-e2dc-427c606c5194"
      },
      "outputs": [
        {
          "data": {
            "text/plain": [
              "tensor([5, 6, 7, 4, 6, 7, 4, 5, 7, 4, 5, 6])"
            ]
          },
          "execution_count": 46,
          "metadata": {
            "tags": []
          },
          "output_type": "execute_result"
        }
      ],
      "source": [
        "edges_tr[1][12:24]"
      ]
    },
    {
      "cell_type": "code",
      "execution_count": null,
      "metadata": {
        "colab": {
          "base_uri": "https://localhost:8080/"
        },
        "id": "0nPRvaGOxW3v",
        "outputId": "fd0562c6-52d4-4068-d358-041feed38654"
      },
      "outputs": [
        {
          "data": {
            "text/plain": [
              "array([[0, 1, 1, 1],\n",
              "       [1, 0, 0, 0],\n",
              "       [1, 0, 0, 1],\n",
              "       [1, 0, 1, 0]], dtype=int64)"
            ]
          },
          "execution_count": 43,
          "metadata": {
            "tags": []
          },
          "output_type": "execute_result"
        }
      ],
      "source": [
        "adj_list_tr[0]"
      ]
    },
    {
      "cell_type": "code",
      "execution_count": null,
      "metadata": {
        "colab": {
          "base_uri": "https://localhost:8080/"
        },
        "id": "3fg7SoWFxbob",
        "outputId": "72850e69-864b-413f-f351-8e0d17c86603"
      },
      "outputs": [
        {
          "data": {
            "text/plain": [
              "tensor([[1.],\n",
              "        [1.],\n",
              "        [1.],\n",
              "        [1.],\n",
              "        [0.],\n",
              "        [0.],\n",
              "        [1.],\n",
              "        [0.],\n",
              "        [1.],\n",
              "        [1.],\n",
              "        [0.],\n",
              "        [1.]])"
            ]
          },
          "execution_count": 44,
          "metadata": {
            "tags": []
          },
          "output_type": "execute_result"
        }
      ],
      "source": [
        "tensor_edge_mask_tr[:12]"
      ]
    },
    {
      "cell_type": "code",
      "execution_count": null,
      "metadata": {
        "colab": {
          "base_uri": "https://localhost:8080/"
        },
        "id": "Aoj7wbJBIMBy",
        "outputId": "805eb187-0ec4-40f3-aba2-88ac90c55536"
      },
      "outputs": [
        {
          "data": {
            "text/plain": [
              "6000"
            ]
          },
          "execution_count": 133,
          "metadata": {
            "tags": []
          },
          "output_type": "execute_result"
        }
      ],
      "source": [
        "batch_size*n_nodes*(n_nodes-1)"
      ]
    },
    {
      "cell_type": "code",
      "execution_count": null,
      "metadata": {
        "colab": {
          "base_uri": "https://localhost:8080/",
          "height": 460
        },
        "id": "lfP32es_EK_x",
        "outputId": "a7964727-51ec-45f2-e8b8-778d69c813e8"
      },
      "outputs": [
        {
          "name": "stdout",
          "output_type": "stream",
          "text": [
            "torch.Size([6000])\n",
            "torch.Size([2000, 7])\n",
            "Epoch: 1, Iteration: 0, MPNN MSE: 1.6978, EGNN MSE: 0.1276\n",
            "torch.Size([6000])\n",
            "torch.Size([2000, 7])\n"
          ]
        },
        {
          "ename": "IndexError",
          "evalue": "ignored",
          "output_type": "error",
          "traceback": [
            "\u001b[0;31m---------------------------------------------------------------------------\u001b[0m",
            "\u001b[0;31mIndexError\u001b[0m                                Traceback (most recent call last)",
            "\u001b[0;32m<ipython-input-17-bbd05cf6a39b>\u001b[0m in \u001b[0;36m<module>\u001b[0;34m()\u001b[0m\n\u001b[1;32m     32\u001b[0m     \u001b[0mprint\u001b[0m\u001b[0;34m(\u001b[0m\u001b[0medges_0\u001b[0m\u001b[0;34m.\u001b[0m\u001b[0mshape\u001b[0m\u001b[0;34m)\u001b[0m\u001b[0;34m\u001b[0m\u001b[0;34m\u001b[0m\u001b[0m\n\u001b[1;32m     33\u001b[0m     \u001b[0mprint\u001b[0m\u001b[0;34m(\u001b[0m\u001b[0mx\u001b[0m\u001b[0;34m.\u001b[0m\u001b[0mshape\u001b[0m\u001b[0;34m)\u001b[0m\u001b[0;34m\u001b[0m\u001b[0;34m\u001b[0m\u001b[0m\n\u001b[0;32m---> 34\u001b[0;31m     \u001b[0mout_mpnn\u001b[0m \u001b[0;34m=\u001b[0m \u001b[0mmpnn\u001b[0m\u001b[0;34m(\u001b[0m\u001b[0mx\u001b[0m\u001b[0;34m,\u001b[0m \u001b[0medges\u001b[0m\u001b[0;34m,\u001b[0m \u001b[0medge_attr\u001b[0m\u001b[0;34m,\u001b[0m \u001b[0mtensor_edge_mask\u001b[0m\u001b[0;34m,\u001b[0m \u001b[0mn_nodes\u001b[0m\u001b[0;34m)\u001b[0m\u001b[0;34m\u001b[0m\u001b[0;34m\u001b[0m\u001b[0m\n\u001b[0m\u001b[1;32m     35\u001b[0m     \u001b[0;31m#h_mpnn, x_mpnn = out_mpnn[:,0], out_mpnn[:,1:]\u001b[0m\u001b[0;34m\u001b[0m\u001b[0;34m\u001b[0m\u001b[0;34m\u001b[0m\u001b[0m\n\u001b[1;32m     36\u001b[0m     \u001b[0mh_egnn\u001b[0m\u001b[0;34m,\u001b[0m \u001b[0mx_egnn\u001b[0m \u001b[0;34m=\u001b[0m \u001b[0megnn\u001b[0m\u001b[0;34m(\u001b[0m\u001b[0mfeat\u001b[0m\u001b[0;34m,\u001b[0m \u001b[0mcoord\u001b[0m\u001b[0;34m,\u001b[0m \u001b[0medges\u001b[0m\u001b[0;34m,\u001b[0m \u001b[0medge_attr\u001b[0m\u001b[0;34m,\u001b[0m \u001b[0mtensor_edge_mask\u001b[0m\u001b[0;34m,\u001b[0m \u001b[0mn_nodes\u001b[0m\u001b[0;34m)\u001b[0m\u001b[0;34m\u001b[0m\u001b[0;34m\u001b[0m\u001b[0m\n",
            "\u001b[0;32m/usr/local/lib/python3.7/dist-packages/torch/nn/modules/module.py\u001b[0m in \u001b[0;36m_call_impl\u001b[0;34m(self, *input, **kwargs)\u001b[0m\n\u001b[1;32m    887\u001b[0m             \u001b[0mresult\u001b[0m \u001b[0;34m=\u001b[0m \u001b[0mself\u001b[0m\u001b[0;34m.\u001b[0m\u001b[0m_slow_forward\u001b[0m\u001b[0;34m(\u001b[0m\u001b[0;34m*\u001b[0m\u001b[0minput\u001b[0m\u001b[0;34m,\u001b[0m \u001b[0;34m**\u001b[0m\u001b[0mkwargs\u001b[0m\u001b[0;34m)\u001b[0m\u001b[0;34m\u001b[0m\u001b[0;34m\u001b[0m\u001b[0m\n\u001b[1;32m    888\u001b[0m         \u001b[0;32melse\u001b[0m\u001b[0;34m:\u001b[0m\u001b[0;34m\u001b[0m\u001b[0;34m\u001b[0m\u001b[0m\n\u001b[0;32m--> 889\u001b[0;31m             \u001b[0mresult\u001b[0m \u001b[0;34m=\u001b[0m \u001b[0mself\u001b[0m\u001b[0;34m.\u001b[0m\u001b[0mforward\u001b[0m\u001b[0;34m(\u001b[0m\u001b[0;34m*\u001b[0m\u001b[0minput\u001b[0m\u001b[0;34m,\u001b[0m \u001b[0;34m**\u001b[0m\u001b[0mkwargs\u001b[0m\u001b[0;34m)\u001b[0m\u001b[0;34m\u001b[0m\u001b[0;34m\u001b[0m\u001b[0m\n\u001b[0m\u001b[1;32m    890\u001b[0m         for hook in itertools.chain(\n\u001b[1;32m    891\u001b[0m                 \u001b[0m_global_forward_hooks\u001b[0m\u001b[0;34m.\u001b[0m\u001b[0mvalues\u001b[0m\u001b[0;34m(\u001b[0m\u001b[0;34m)\u001b[0m\u001b[0;34m,\u001b[0m\u001b[0;34m\u001b[0m\u001b[0;34m\u001b[0m\u001b[0m\n",
            "\u001b[0;32m<ipython-input-6-496fd5c00784>\u001b[0m in \u001b[0;36mforward\u001b[0;34m(self, x, edges, edge_attr, edge_mask, n_nodes)\u001b[0m\n\u001b[1;32m     25\u001b[0m     \u001b[0;32mfor\u001b[0m \u001b[0mi\u001b[0m \u001b[0;32min\u001b[0m \u001b[0mrange\u001b[0m\u001b[0;34m(\u001b[0m\u001b[0;36m0\u001b[0m\u001b[0;34m,\u001b[0m \u001b[0mself\u001b[0m\u001b[0;34m.\u001b[0m\u001b[0mn_layers\u001b[0m\u001b[0;34m)\u001b[0m\u001b[0;34m:\u001b[0m\u001b[0;34m\u001b[0m\u001b[0;34m\u001b[0m\u001b[0m\n\u001b[1;32m     26\u001b[0m         \u001b[0;32mif\u001b[0m \u001b[0mself\u001b[0m\u001b[0;34m.\u001b[0m\u001b[0mnode_attr\u001b[0m\u001b[0;34m:\u001b[0m\u001b[0;34m\u001b[0m\u001b[0;34m\u001b[0m\u001b[0m\n\u001b[0;32m---> 27\u001b[0;31m             \u001b[0mh\u001b[0m\u001b[0;34m,\u001b[0m \u001b[0m_\u001b[0m \u001b[0;34m=\u001b[0m \u001b[0mself\u001b[0m\u001b[0;34m.\u001b[0m\u001b[0m_modules\u001b[0m\u001b[0;34m[\u001b[0m\u001b[0;34m\"gcl_%d\"\u001b[0m \u001b[0;34m%\u001b[0m \u001b[0mi\u001b[0m\u001b[0;34m]\u001b[0m\u001b[0;34m(\u001b[0m\u001b[0mh\u001b[0m\u001b[0;34m,\u001b[0m \u001b[0medges\u001b[0m\u001b[0;34m,\u001b[0m \u001b[0medge_mask\u001b[0m\u001b[0;34m,\u001b[0m \u001b[0medge_attr\u001b[0m\u001b[0;34m=\u001b[0m\u001b[0;32mNone\u001b[0m\u001b[0;34m,\u001b[0m \u001b[0mnode_attr\u001b[0m \u001b[0;34m=\u001b[0m \u001b[0mx\u001b[0m\u001b[0;34m)\u001b[0m\u001b[0;34m\u001b[0m\u001b[0;34m\u001b[0m\u001b[0m\n\u001b[0m\u001b[1;32m     28\u001b[0m         \u001b[0;32melse\u001b[0m\u001b[0;34m:\u001b[0m\u001b[0;34m\u001b[0m\u001b[0;34m\u001b[0m\u001b[0m\n\u001b[1;32m     29\u001b[0m             \u001b[0mh\u001b[0m\u001b[0;34m,\u001b[0m \u001b[0m_\u001b[0m \u001b[0;34m=\u001b[0m \u001b[0mself\u001b[0m\u001b[0;34m.\u001b[0m\u001b[0m_modules\u001b[0m\u001b[0;34m[\u001b[0m\u001b[0;34m\"gcl_%d\"\u001b[0m \u001b[0;34m%\u001b[0m \u001b[0mi\u001b[0m\u001b[0;34m]\u001b[0m\u001b[0;34m(\u001b[0m\u001b[0mx\u001b[0m\u001b[0;34m,\u001b[0m \u001b[0medge_index\u001b[0m\u001b[0;34m,\u001b[0m \u001b[0medge_mask\u001b[0m\u001b[0;34m,\u001b[0m \u001b[0medge_attr\u001b[0m\u001b[0;34m=\u001b[0m\u001b[0;32mNone\u001b[0m\u001b[0;34m,\u001b[0m \u001b[0mnode_attr\u001b[0m\u001b[0;34m=\u001b[0m\u001b[0;32mNone\u001b[0m\u001b[0;34m)\u001b[0m\u001b[0;34m\u001b[0m\u001b[0;34m\u001b[0m\u001b[0m\n",
            "\u001b[0;32m/usr/local/lib/python3.7/dist-packages/torch/nn/modules/module.py\u001b[0m in \u001b[0;36m_call_impl\u001b[0;34m(self, *input, **kwargs)\u001b[0m\n\u001b[1;32m    887\u001b[0m             \u001b[0mresult\u001b[0m \u001b[0;34m=\u001b[0m \u001b[0mself\u001b[0m\u001b[0;34m.\u001b[0m\u001b[0m_slow_forward\u001b[0m\u001b[0;34m(\u001b[0m\u001b[0;34m*\u001b[0m\u001b[0minput\u001b[0m\u001b[0;34m,\u001b[0m \u001b[0;34m**\u001b[0m\u001b[0mkwargs\u001b[0m\u001b[0;34m)\u001b[0m\u001b[0;34m\u001b[0m\u001b[0;34m\u001b[0m\u001b[0m\n\u001b[1;32m    888\u001b[0m         \u001b[0;32melse\u001b[0m\u001b[0;34m:\u001b[0m\u001b[0;34m\u001b[0m\u001b[0;34m\u001b[0m\u001b[0m\n\u001b[0;32m--> 889\u001b[0;31m             \u001b[0mresult\u001b[0m \u001b[0;34m=\u001b[0m \u001b[0mself\u001b[0m\u001b[0;34m.\u001b[0m\u001b[0mforward\u001b[0m\u001b[0;34m(\u001b[0m\u001b[0;34m*\u001b[0m\u001b[0minput\u001b[0m\u001b[0;34m,\u001b[0m \u001b[0;34m**\u001b[0m\u001b[0mkwargs\u001b[0m\u001b[0;34m)\u001b[0m\u001b[0;34m\u001b[0m\u001b[0;34m\u001b[0m\u001b[0m\n\u001b[0m\u001b[1;32m    890\u001b[0m         for hook in itertools.chain(\n\u001b[1;32m    891\u001b[0m                 \u001b[0m_global_forward_hooks\u001b[0m\u001b[0;34m.\u001b[0m\u001b[0mvalues\u001b[0m\u001b[0;34m(\u001b[0m\u001b[0;34m)\u001b[0m\u001b[0;34m,\u001b[0m\u001b[0;34m\u001b[0m\u001b[0;34m\u001b[0m\u001b[0m\n",
            "\u001b[0;32m<ipython-input-3-080fe34f795f>\u001b[0m in \u001b[0;36mforward\u001b[0;34m(self, x, edge_index, edge_mask, edge_attr, node_attr)\u001b[0m\n\u001b[1;32m     41\u001b[0m     \u001b[0;32mdef\u001b[0m \u001b[0mforward\u001b[0m\u001b[0;34m(\u001b[0m\u001b[0mself\u001b[0m\u001b[0;34m,\u001b[0m \u001b[0mx\u001b[0m\u001b[0;34m,\u001b[0m \u001b[0medge_index\u001b[0m\u001b[0;34m,\u001b[0m \u001b[0medge_mask\u001b[0m\u001b[0;34m,\u001b[0m \u001b[0medge_attr\u001b[0m\u001b[0;34m=\u001b[0m\u001b[0;32mNone\u001b[0m\u001b[0;34m,\u001b[0m \u001b[0mnode_attr\u001b[0m\u001b[0;34m=\u001b[0m\u001b[0;32mNone\u001b[0m\u001b[0;34m)\u001b[0m\u001b[0;34m:\u001b[0m\u001b[0;34m\u001b[0m\u001b[0;34m\u001b[0m\u001b[0m\n\u001b[1;32m     42\u001b[0m         \u001b[0mrow\u001b[0m\u001b[0;34m,\u001b[0m \u001b[0mcol\u001b[0m \u001b[0;34m=\u001b[0m \u001b[0medge_index\u001b[0m\u001b[0;34m\u001b[0m\u001b[0;34m\u001b[0m\u001b[0m\n\u001b[0;32m---> 43\u001b[0;31m         \u001b[0medge_feat\u001b[0m \u001b[0;34m=\u001b[0m \u001b[0mself\u001b[0m\u001b[0;34m.\u001b[0m\u001b[0medge_model\u001b[0m\u001b[0;34m(\u001b[0m\u001b[0mx\u001b[0m\u001b[0;34m[\u001b[0m\u001b[0mrow\u001b[0m\u001b[0;34m]\u001b[0m\u001b[0;34m,\u001b[0m \u001b[0mx\u001b[0m\u001b[0;34m[\u001b[0m\u001b[0mcol\u001b[0m\u001b[0;34m]\u001b[0m\u001b[0;34m,\u001b[0m \u001b[0medge_attr\u001b[0m\u001b[0;34m)\u001b[0m\u001b[0;34m\u001b[0m\u001b[0;34m\u001b[0m\u001b[0m\n\u001b[0m\u001b[1;32m     44\u001b[0m         \u001b[0medge_feat\u001b[0m \u001b[0;34m=\u001b[0m \u001b[0medge_feat\u001b[0m \u001b[0;34m*\u001b[0m \u001b[0medge_mask\u001b[0m\u001b[0;34m\u001b[0m\u001b[0;34m\u001b[0m\u001b[0m\n\u001b[1;32m     45\u001b[0m         \u001b[0;31m#print(x.shape)\u001b[0m\u001b[0;34m\u001b[0m\u001b[0;34m\u001b[0m\u001b[0;34m\u001b[0m\u001b[0m\n",
            "\u001b[0;31mIndexError\u001b[0m: index 2000 is out of bounds for dimension 0 with size 2000"
          ]
        }
      ],
      "source": [
        "#Train\n",
        "from torch import nn, optim\n",
        "import matplotlib.pyplot as plt\n",
        "\n",
        "max_epoch = 1000\n",
        "optimizer_mpnn = optim.SGD(mpnn.parameters(), lr=0.0001)\n",
        "loss_l1_mpnn = nn.L1Loss()\n",
        "optimizer_egnn = optim.SGD(egnn.parameters(), lr=0.0001)\n",
        "loss_l1_egnn = nn.L1Loss()\n",
        "batch_size = 500\n",
        "iteration = training_set_size // batch_size\n",
        "loss_mpnn_x_l = []\n",
        "loss_mpnn_h_l = []\n",
        "loss_egnn_x_l = []\n",
        "loss_egnn_h_l = []\n",
        "\n",
        "for i in range(max_epoch):\n",
        "  for iters in range(iteration):\n",
        "    #Each iteration is process #batch_size number of graphs\n",
        "\n",
        "    coord = coord_tr[iters*batch_size*n_nodes:(iters+1)*batch_size*n_nodes,:]\n",
        "    feat = feat_tr[iters*batch_size*n_nodes:(iters+1)*batch_size*n_nodes,:]\n",
        "    x_1 = x_tr[iters*batch_size*n_nodes:(iters+1)*batch_size*n_nodes,:]\n",
        "    h_1 = h_tr[iters*batch_size*n_nodes:(iters+1)*batch_size*n_nodes,:]\n",
        "    h_1 = torch.tensor(h_1)\n",
        "    edges_0 = edges_tr[0][iters*batch_size*n_nodes*(n_nodes-1):(iters+1)*batch_size*n_nodes*(n_nodes-1)]\n",
        "    edges_1 = edges_tr[1][iters*batch_size*n_nodes*(n_nodes-1):(iters+1)*batch_size*n_nodes*(n_nodes-1)]\n",
        "    edges = [edges_0, edges_1]\n",
        "    edge_attr = edge_attr_tr[iters*batch_size*n_nodes*(n_nodes-1):(iters+1)*batch_size*n_nodes*(n_nodes-1),:]\n",
        "    tensor_edge_mask = tensor_edge_mask_tr[iters*batch_size*n_nodes*(n_nodes-1):(iters+1)*batch_size*n_nodes*(n_nodes-1),:]\n",
        "    x = torch.cat([feat, coord], axis=1)\n",
        "    print(edges_0.shape)\n",
        "    print(x.shape)\n",
        "    out_mpnn = mpnn(x, edges, edge_attr, tensor_edge_mask, n_nodes)\n",
        "    #h_mpnn, x_mpnn = out_mpnn[:,0], out_mpnn[:,1:]\n",
        "    h_egnn, x_egnn = egnn(feat, coord, edges, edge_attr, tensor_edge_mask, n_nodes)\n",
        "\n",
        "    #out_egnn = torch.cat([x_egnn, h_egnn],axis=1)\n",
        "    #label = torch.cat([x_1, h_1], axis=1)\n",
        "    loss_mpnn_h = loss_l1_mpnn(out_mpnn[:,0].reshape(-1,1), h_1)\n",
        "    loss_egnn_h = loss_l1_egnn(h_egnn, h_1)\n",
        "    loss_mpnn_x = loss_l1_mpnn(out_mpnn[:,1:], x_1)\n",
        "    loss_egnn_x = loss_l1_egnn(x_egnn, x_1)\n",
        "    loss_mpnn = loss_mpnn_h + loss_mpnn_x\n",
        "    loss_egnn = loss_egnn_h + loss_egnn_x\n",
        "    loss_mpnn_x_l.append(loss_mpnn_x)\n",
        "    loss_mpnn_h_l.append(loss_mpnn_h)\n",
        "    loss_egnn_x_l.append(loss_egnn_x)\n",
        "    loss_egnn_h_l.append(loss_egnn_h)\n",
        "    loss_mpnn.backward()\n",
        "    loss_egnn.backward()\n",
        "    optimizer_mpnn.step()\n",
        "    optimizer_egnn.step()\n",
        "    if iters % 10 == 0:\n",
        "      print(\"Epoch: {}, Iteration: {}, MPNN MSE: {:.4f}, EGNN MSE: {:.4f}\".format((i+1), iters, loss_mpnn, loss_egnn))\n",
        "    if i % 50 == 1:\n",
        "      plt.figure()\n",
        "      plt.plot(loss_mpnn_x_l)\n",
        "      plt.title('MPNN X Loss')\n",
        "      plt.figure()\n",
        "      plt.plot(loss_egnn_x_l)\n",
        "      plt.title('EGNN X Loss')\n",
        "      plt.figure()\n",
        "      plt.plot(loss_mpnn_h_l)\n",
        "      plt.title('MPNN H Loss')\n",
        "      plt.figure()\n",
        "      plt.plot(loss_egnn_h_l)\n",
        "      plt.title('EGNN H Loss')\n",
        "      \n",
        "      \n"
      ]
    },
    {
      "cell_type": "code",
      "execution_count": null,
      "metadata": {
        "id": "_iJRqwXhGK4N"
      },
      "outputs": [],
      "source": [
        "l = list(np.linspace(0,10))\n",
        "m = list(np.linspace(0,5))"
      ]
    },
    {
      "cell_type": "code",
      "execution_count": null,
      "metadata": {
        "colab": {
          "base_uri": "https://localhost:8080/"
        },
        "id": "03FKtzTZuw7c",
        "outputId": "6356b6d3-c060-4144-a8d0-1aae9d649587"
      },
      "outputs": [
        {
          "name": "stdout",
          "output_type": "stream",
          "text": [
            "[tensor([2000, 2000, 2000,  ..., 3999, 3999, 3999]), tensor([2001, 2002, 2003,  ..., 3996, 3997, 3998])]\n"
          ]
        }
      ],
      "source": [
        "print(edges)"
      ]
    },
    {
      "cell_type": "code",
      "execution_count": null,
      "metadata": {
        "colab": {
          "base_uri": "https://localhost:8080/",
          "height": 546
        },
        "id": "Vrvo1fYVGNj4",
        "outputId": "093061ef-f3e3-45ed-8b27-2edc4882f523"
      },
      "outputs": [
        {
          "data": {
            "text/plain": [
              "[<matplotlib.lines.Line2D at 0x7fb2f6cef110>]"
            ]
          },
          "execution_count": 124,
          "metadata": {
            "tags": []
          },
          "output_type": "execute_result"
        },
        {
          "data": {
            "image/png": "[encoded data removed]",
            "text/plain": [
              "<Figure size 432x288 with 1 Axes>"
            ]
          },
          "metadata": {
            "tags": []
          },
          "output_type": "display_data"
        },
        {
          "data": {
            "image/png": "[encoded data removed]",
            "text/plain": [
              "<Figure size 432x288 with 1 Axes>"
            ]
          },
          "metadata": {
            "tags": []
          },
          "output_type": "display_data"
        }
      ],
      "source": [
        "plt.figure()\n",
        "plt.plot(l)\n",
        "plt.title('egnn h loss')\n",
        "plt.figure()\n",
        "plt.plot(m)"
      ]
    },
    {
      "cell_type": "code",
      "execution_count": null,
      "metadata": {
        "colab": {
          "base_uri": "https://localhost:8080/"
        },
        "id": "CU712SjqGPBu",
        "outputId": "a2e96072-bf45-4bdb-eff8-f66f2ce6cf92"
      },
      "outputs": [
        {
          "data": {
            "text/plain": [
              "[0.0]"
            ]
          },
          "execution_count": 117,
          "metadata": {
            "tags": []
          },
          "output_type": "execute_result"
        }
      ],
      "source": [
        "l"
      ]
    },
    {
      "cell_type": "code",
      "execution_count": null,
      "metadata": {
        "id": "zzQKGm2zGTFV"
      },
      "outputs": [],
      "source": []
    }
  ],
  "metadata": {
    "accelerator": "GPU",
    "colab": {
      "collapsed_sections": [
        "kMPnMgfJlp3S",
        "NJHfbRE369U7",
        "mz9gtZ1pYhRj",
        "CQIrtWmd1IQO",
        "lY_Dw6Aa6TKv",
        "eRDNWx6G6XCQ",
        "jp5sYtAr6aDJ"
      ],
      "provenance": [],
      "toc_visible": true
    },
    "gpuClass": "standard",
    "kernelspec": {
      "display_name": "Python 3",
      "name": "python3"
    },
    "language_info": {
      "name": "python"
    }
  },
  "nbformat": 4,
  "nbformat_minor": 0
}